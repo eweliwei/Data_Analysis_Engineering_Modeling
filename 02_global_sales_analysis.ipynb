{
 "cells": [
  {
   "cell_type": "markdown",
   "metadata": {
    "id": "VVQPg2hqZYzw"
   },
   "source": [
    "# Import Libraries"
   ]
  },
  {
   "cell_type": "code",
   "execution_count": 1,
   "metadata": {},
   "outputs": [
    {
     "name": "stdout",
     "output_type": "stream",
     "text": [
      "Requirement already satisfied: idna==3.4 in c:\\users\\eweli\\documents\\data_analysis_engineering_modeling\\venv\\lib\\site-packages (from -r requirements.txt (line 1)) (3.4)\n",
      "Requirement already satisfied: ipykernel==6.29.5 in c:\\users\\eweli\\documents\\data_analysis_engineering_modeling\\venv\\lib\\site-packages (from -r requirements.txt (line 2)) (6.29.5)\n",
      "Requirement already satisfied: ipython==9.2.0 in c:\\users\\eweli\\documents\\data_analysis_engineering_modeling\\venv\\lib\\site-packages (from -r requirements.txt (line 3)) (9.2.0)\n",
      "Requirement already satisfied: ipython_pygments_lexers==1.1.1 in c:\\users\\eweli\\documents\\data_analysis_engineering_modeling\\venv\\lib\\site-packages (from -r requirements.txt (line 4)) (1.1.1)\n",
      "Requirement already satisfied: jedi==0.19.2 in c:\\users\\eweli\\documents\\data_analysis_engineering_modeling\\venv\\lib\\site-packages (from -r requirements.txt (line 5)) (0.19.2)\n",
      "Requirement already satisfied: Jinja2==3.1.2 in c:\\users\\eweli\\documents\\data_analysis_engineering_modeling\\venv\\lib\\site-packages (from -r requirements.txt (line 6)) (3.1.2)\n",
      "Requirement already satisfied: jupyter_client==8.6.3 in c:\\users\\eweli\\documents\\data_analysis_engineering_modeling\\venv\\lib\\site-packages (from -r requirements.txt (line 7)) (8.6.3)\n",
      "Requirement already satisfied: jupyter_core==5.7.2 in c:\\users\\eweli\\documents\\data_analysis_engineering_modeling\\venv\\lib\\site-packages (from -r requirements.txt (line 8)) (5.7.2)\n",
      "Requirement already satisfied: kiwisolver==1.4.8 in c:\\users\\eweli\\documents\\data_analysis_engineering_modeling\\venv\\lib\\site-packages (from -r requirements.txt (line 9)) (1.4.8)\n",
      "Requirement already satisfied: MarkupSafe==2.1.3 in c:\\users\\eweli\\documents\\data_analysis_engineering_modeling\\venv\\lib\\site-packages (from -r requirements.txt (line 10)) (2.1.3)\n",
      "Requirement already satisfied: matplotlib==3.10.3 in c:\\users\\eweli\\documents\\data_analysis_engineering_modeling\\venv\\lib\\site-packages (from -r requirements.txt (line 11)) (3.10.3)\n",
      "Requirement already satisfied: matplotlib-inline==0.1.7 in c:\\users\\eweli\\documents\\data_analysis_engineering_modeling\\venv\\lib\\site-packages (from -r requirements.txt (line 12)) (0.1.7)\n",
      "Requirement already satisfied: numpy==1.25.0 in c:\\users\\eweli\\documents\\data_analysis_engineering_modeling\\venv\\lib\\site-packages (from -r requirements.txt (line 13)) (1.25.0)\n",
      "Requirement already satisfied: packaging==23.1 in c:\\users\\eweli\\documents\\data_analysis_engineering_modeling\\venv\\lib\\site-packages (from -r requirements.txt (line 14)) (23.1)\n",
      "Requirement already satisfied: pandas==2.2.3 in c:\\users\\eweli\\documents\\data_analysis_engineering_modeling\\venv\\lib\\site-packages (from -r requirements.txt (line 15)) (2.2.3)\n",
      "Requirement already satisfied: regex==2023.6.3 in c:\\users\\eweli\\documents\\data_analysis_engineering_modeling\\venv\\lib\\site-packages (from -r requirements.txt (line 16)) (2023.6.3)\n",
      "Requirement already satisfied: requests==2.32.3 in c:\\users\\eweli\\documents\\data_analysis_engineering_modeling\\venv\\lib\\site-packages (from -r requirements.txt (line 17)) (2.32.3)\n",
      "Requirement already satisfied: seaborn==0.13.2 in c:\\users\\eweli\\documents\\data_analysis_engineering_modeling\\venv\\lib\\site-packages (from -r requirements.txt (line 18)) (0.13.2)\n",
      "Note: you may need to restart the kernel to use updated packages.\n"
     ]
    },
    {
     "name": "stderr",
     "output_type": "stream",
     "text": [
      "ERROR: Could not find a version that satisfies the requirement plotly==5.19.0s (from versions: 0.2, 0.3, 0.4, 0.5, 0.5.1, 0.5.2, 0.5.3, 0.5.4, 0.5.5, 0.5.6, 0.5.7, 0.5.8, 0.5.9, 0.5.10, 0.5.11, 0.5.12, 0.5.13, 1.0.0, 1.0.1, 1.0.2, 1.0.3, 1.0.4, 1.0.5, 1.0.6, 1.0.7, 1.0.8, 1.0.9, 1.0.10, 1.0.11, 1.0.12, 1.0.13, 1.0.14, 1.0.15, 1.0.16, 1.0.17, 1.0.18, 1.0.19, 1.0.20, 1.0.21, 1.0.22, 1.0.23, 1.0.24, 1.0.25, 1.0.26, 1.0.27, 1.0.28, 1.0.29, 1.0.30, 1.0.31, 1.0.32, 1.0.33, 1.0.34, 1.1.0, 1.1.1, 1.1.2, 1.1.3, 1.1.4, 1.2.0, 1.2.1, 1.2.2, 1.2.3, 1.2.4, 1.2.6, 1.2.7, 1.2.8, 1.2.9, 1.3.0, 1.3.1, 1.3.2, 1.4.0, 1.4.1, 1.4.2, 1.4.3, 1.4.4, 1.4.5, 1.4.7, 1.4.9, 1.4.10, 1.4.11, 1.4.12, 1.4.13, 1.4.14, 1.5.0, 1.6.4, 1.6.6, 1.6.7, 1.6.8, 1.6.9, 1.6.10, 1.6.11, 1.6.12, 1.6.13, 1.6.14, 1.6.15, 1.6.16, 1.6.17, 1.6.19, 1.7.0, 1.7.1, 1.7.2, 1.7.3, 1.7.4, 1.7.5, 1.7.6, 1.7.7, 1.7.9, 1.8.0, 1.8.1, 1.8.2, 1.8.3, 1.8.4, 1.8.5, 1.8.6, 1.8.8, 1.8.11, 1.8.12, 1.9.0, 1.9.1, 1.9.2, 1.9.3, 1.9.4, 1.9.5, 1.9.6, 1.9.7, 1.9.8, 1.9.9, 1.9.10, 1.9.11, 1.9.12, 1.9.13, 1.10.0, 1.11.0, 1.12.0, 1.12.1, 1.12.2, 1.12.3, 1.12.4, 1.12.5, 1.12.6, 1.12.7, 1.12.8, 1.12.9, 1.12.10, 1.12.11, 1.12.12, 1.13.0, 2.0.0, 2.0.1, 2.0.2, 2.0.5, 2.0.6, 2.0.7, 2.0.8, 2.0.9, 2.0.10, 2.0.11, 2.0.12, 2.0.13, 2.0.14, 2.0.15, 2.0.16, 2.1.0, 2.2.0, 2.2.1, 2.2.2, 2.2.3, 2.3.0, 2.4.0, 2.4.1, 2.5.0, 2.5.1, 2.6.0, 2.7.0, 3.0.0rc1, 3.0.0rc2, 3.0.0rc3, 3.0.0rc4, 3.0.0rc5, 3.0.0rc6, 3.0.0rc7, 3.0.0rc8, 3.0.0rc9, 3.0.0rc10, 3.0.0rc11, 3.0.0, 3.0.2, 3.1.0rc1, 3.1.0, 3.1.1rc1, 3.1.1, 3.2.0a1, 3.2.0a2, 3.2.0rc1, 3.2.0, 3.2.1rc1, 3.2.1, 3.3.0rc1, 3.3.0, 3.4.0rc1, 3.4.0, 3.4.1rc1, 3.4.1, 3.4.2, 3.5.0rc1, 3.5.0, 3.6.0rc1, 3.6.0, 3.6.1, 3.7.0rc1, 3.7.0, 3.7.1, 3.8.0rc1, 3.8.0, 3.8.1, 3.9.0rc1, 3.9.0, 3.10.0rc1, 3.10.0, 4.0.0a1, 4.0.0a2, 4.0.0a3, 4.0.0a4, 4.0.0a5, 4.0.0a6, 4.0.0a7, 4.0.0a8, 4.0.0a9, 4.0.0a10, 4.0.0rc1, 4.0.0, 4.1.0rc1, 4.1.0rc2, 4.1.0rc3, 4.1.0, 4.1.1, 4.2.0, 4.2.1, 4.3.0, 4.4.0, 4.4.1, 4.5.0rc1, 4.5.0, 4.5.1, 4.5.2, 4.5.3, 4.5.4, 4.6.0, 4.7.0, 4.7.1, 4.8.0, 4.8.1, 4.8.2, 4.9.0rc1, 4.9.0, 4.10.0, 4.11.0, 4.12.0, 4.13.0, 4.14.0, 4.14.1, 4.14.2, 4.14.3, 5.0.0rc1, 5.0.0rc2, 5.0.0, 5.1.0, 5.2.0, 5.2.1, 5.2.2, 5.3.0, 5.3.1, 5.4.0, 5.5.0, 5.6.0, 5.7.0, 5.8.0, 5.8.1, 5.8.2, 5.9.0, 5.10.0, 5.11.0, 5.12.0, 5.13.0, 5.13.1, 5.14.0, 5.14.1, 5.15.0, 5.16.0, 5.16.1, 5.17.0, 5.18.0, 5.19.0, 5.20.0, 5.21.0, 5.22.0, 5.23.0, 5.24.0, 5.24.1, 6.0.0rc0, 6.0.0, 6.0.1, 6.1.0b0, 6.1.0rc0, 6.1.0, 6.1.1)\n",
      "ERROR: No matching distribution found for plotly==5.19.0s\n",
      "\n",
      "[notice] A new release of pip is available: 23.1.2 -> 25.1.1\n",
      "[notice] To update, run: python.exe -m pip install --upgrade pip\n"
     ]
    }
   ],
   "source": [
    "pip install -r requirements.txt"
   ]
  },
  {
   "cell_type": "code",
   "execution_count": 2,
   "metadata": {},
   "outputs": [],
   "source": [
    "import sys\n",
    "import os\n",
    "\n",
    "sys.path.append(os.path.abspath('.'))"
   ]
  },
  {
   "cell_type": "code",
   "execution_count": 3,
   "metadata": {},
   "outputs": [],
   "source": [
    "from data_preprocessing.data_extractor import DataExtractor\n",
    "from data_preprocessing.data_transformation import DataTransformer\n",
    "import logging\n",
    "import requests\n",
    "import sys\n",
    "import pandas as pd\n",
    "import numpy as np\n",
    "import matplotlib.pyplot as plt\n",
    "import seaborn as sns\n",
    "import plotly.express as px"
   ]
  },
  {
   "cell_type": "markdown",
   "metadata": {
    "id": "l6Hx_fflwGBU"
   },
   "source": [
    "# Data Extraction"
   ]
  },
  {
   "cell_type": "code",
   "execution_count": 4,
   "metadata": {
    "colab": {
     "base_uri": "https://localhost:8080/"
    },
    "executionInfo": {
     "elapsed": 177,
     "status": "ok",
     "timestamp": 1747753545844,
     "user": {
      "displayName": "Ewe Li Wei",
      "userId": "18295529536115247948"
     },
     "user_tz": -480
    },
    "id": "M27S47vMTec4",
    "outputId": "21c07a2e-85bf-4bc6-f339-2dad9599a4d9"
   },
   "outputs": [
    {
     "name": "stdout",
     "output_type": "stream",
     "text": [
      "2025-05-24 22:15:39,659 - Fetching data from GitHub: https://raw.githubusercontent.com/eweliwei/Data_Analysis_Engineering_Modeling/main/global_sales.csv\n"
     ]
    }
   ],
   "source": [
    "extractor = DataExtractor()\n",
    "global_sales_df = extractor.fetch_github_data(github_url=\"https://github.com/eweliwei/Data_Analysis_Engineering_Modeling/blob/main/global_sales.csv\")"
   ]
  },
  {
   "cell_type": "code",
   "execution_count": 5,
   "metadata": {
    "colab": {
     "base_uri": "https://localhost:8080/"
    },
    "executionInfo": {
     "elapsed": 87,
     "status": "ok",
     "timestamp": 1747758149713,
     "user": {
      "displayName": "Ewe Li Wei",
      "userId": "18295529536115247948"
     },
     "user_tz": -480
    },
    "id": "X6oyGkjhS8LI",
    "outputId": "a00361d8-e03e-4c0e-ec85-7629a0864517"
   },
   "outputs": [
    {
     "name": "stdout",
     "output_type": "stream",
     "text": [
      "   ORDERNUMBER  QUANTITYORDERED  PRICEEACH  ORDERLINENUMBER    SALES  \\\n",
      "0        10107               30      95.70                2  2871.00   \n",
      "1        10121               34      81.35                5  2765.90   \n",
      "2        10134               41      94.74                2  3884.34   \n",
      "3        10145               45      83.26                6  3746.70   \n",
      "4        10159               49     100.00               14  5205.27   \n",
      "\n",
      "         ORDERDATE   STATUS  QTR_ID  MONTH_ID  YEAR_ID  PRODUCTLINE  MSRP  \\\n",
      "0   2/24/2003 0:00  Shipped       1         2     2003  Motorcycles    95   \n",
      "1    5/7/2003 0:00  Shipped       2         5     2003  Motorcycles    95   \n",
      "2    7/1/2003 0:00  Shipped       3         7     2003  Motorcycles    95   \n",
      "3   8/25/2003 0:00  Shipped       3         8     2003  Motorcycles    95   \n",
      "4  10/10/2003 0:00  Shipped       4        10     2003  Motorcycles    95   \n",
      "\n",
      "  PRODUCTCODE              CUSTOMERNAME           CITY STATE POSTALCODE  \\\n",
      "0    S10_1678         Land of Toys Inc.            NYC    NY      10022   \n",
      "1    S10_1678        Reims Collectables          Reims   NaN      51100   \n",
      "2    S10_1678           Lyon Souveniers          Paris   NaN      75508   \n",
      "3    S10_1678         Toys4GrownUps.com       Pasadena    CA      90003   \n",
      "4    S10_1678  Corporate Gift Ideas Co.  San Francisco    CA        NaN   \n",
      "\n",
      "  COUNTRY DEALSIZE  \n",
      "0     USA    Small  \n",
      "1  France    Small  \n",
      "2  France   Medium  \n",
      "3     USA   Medium  \n",
      "4     USA   Medium  \n"
     ]
    }
   ],
   "source": [
    "# View sample records\n",
    "print(global_sales_df.head())"
   ]
  },
  {
   "cell_type": "markdown",
   "metadata": {
    "id": "8C84rdnRwLos"
   },
   "source": [
    "# Sample Data & Data Exploration"
   ]
  },
  {
   "cell_type": "code",
   "execution_count": 6,
   "metadata": {
    "colab": {
     "base_uri": "https://localhost:8080/"
    },
    "executionInfo": {
     "elapsed": 12,
     "status": "ok",
     "timestamp": 1747758150362,
     "user": {
      "displayName": "Ewe Li Wei",
      "userId": "18295529536115247948"
     },
     "user_tz": -480
    },
    "id": "BPLQgpcfwjsM",
    "outputId": "5186a663-7328-42f9-bf2c-c27c4db5f69d"
   },
   "outputs": [
    {
     "data": {
      "text/plain": [
       "(2823, 19)"
      ]
     },
     "execution_count": 6,
     "metadata": {},
     "output_type": "execute_result"
    }
   ],
   "source": [
    "# View total rows and columns\n",
    "global_sales_df.shape"
   ]
  },
  {
   "cell_type": "code",
   "execution_count": 7,
   "metadata": {
    "colab": {
     "base_uri": "https://localhost:8080/",
     "height": 312
    },
    "executionInfo": {
     "elapsed": 215,
     "status": "ok",
     "timestamp": 1747758150651,
     "user": {
      "displayName": "Ewe Li Wei",
      "userId": "18295529536115247948"
     },
     "user_tz": -480
    },
    "id": "0oriHgygw8b8",
    "outputId": "bd25c6d6-1e93-4d12-9249-3fc0af83be3e"
   },
   "outputs": [
    {
     "data": {
      "text/html": [
       "<div>\n",
       "<style scoped>\n",
       "    .dataframe tbody tr th:only-of-type {\n",
       "        vertical-align: middle;\n",
       "    }\n",
       "\n",
       "    .dataframe tbody tr th {\n",
       "        vertical-align: top;\n",
       "    }\n",
       "\n",
       "    .dataframe thead th {\n",
       "        text-align: right;\n",
       "    }\n",
       "</style>\n",
       "<table border=\"1\" class=\"dataframe\">\n",
       "  <thead>\n",
       "    <tr style=\"text-align: right;\">\n",
       "      <th></th>\n",
       "      <th>ORDERNUMBER</th>\n",
       "      <th>QUANTITYORDERED</th>\n",
       "      <th>PRICEEACH</th>\n",
       "      <th>ORDERLINENUMBER</th>\n",
       "      <th>SALES</th>\n",
       "      <th>ORDERDATE</th>\n",
       "      <th>STATUS</th>\n",
       "      <th>QTR_ID</th>\n",
       "      <th>MONTH_ID</th>\n",
       "      <th>YEAR_ID</th>\n",
       "      <th>PRODUCTLINE</th>\n",
       "      <th>MSRP</th>\n",
       "      <th>PRODUCTCODE</th>\n",
       "      <th>CUSTOMERNAME</th>\n",
       "      <th>CITY</th>\n",
       "      <th>STATE</th>\n",
       "      <th>POSTALCODE</th>\n",
       "      <th>COUNTRY</th>\n",
       "      <th>DEALSIZE</th>\n",
       "    </tr>\n",
       "  </thead>\n",
       "  <tbody>\n",
       "    <tr>\n",
       "      <th>0</th>\n",
       "      <td>10107</td>\n",
       "      <td>30</td>\n",
       "      <td>95.70</td>\n",
       "      <td>2</td>\n",
       "      <td>2871.00</td>\n",
       "      <td>2/24/2003 0:00</td>\n",
       "      <td>Shipped</td>\n",
       "      <td>1</td>\n",
       "      <td>2</td>\n",
       "      <td>2003</td>\n",
       "      <td>Motorcycles</td>\n",
       "      <td>95</td>\n",
       "      <td>S10_1678</td>\n",
       "      <td>Land of Toys Inc.</td>\n",
       "      <td>NYC</td>\n",
       "      <td>NY</td>\n",
       "      <td>10022</td>\n",
       "      <td>USA</td>\n",
       "      <td>Small</td>\n",
       "    </tr>\n",
       "    <tr>\n",
       "      <th>1</th>\n",
       "      <td>10121</td>\n",
       "      <td>34</td>\n",
       "      <td>81.35</td>\n",
       "      <td>5</td>\n",
       "      <td>2765.90</td>\n",
       "      <td>5/7/2003 0:00</td>\n",
       "      <td>Shipped</td>\n",
       "      <td>2</td>\n",
       "      <td>5</td>\n",
       "      <td>2003</td>\n",
       "      <td>Motorcycles</td>\n",
       "      <td>95</td>\n",
       "      <td>S10_1678</td>\n",
       "      <td>Reims Collectables</td>\n",
       "      <td>Reims</td>\n",
       "      <td>NaN</td>\n",
       "      <td>51100</td>\n",
       "      <td>France</td>\n",
       "      <td>Small</td>\n",
       "    </tr>\n",
       "    <tr>\n",
       "      <th>2</th>\n",
       "      <td>10134</td>\n",
       "      <td>41</td>\n",
       "      <td>94.74</td>\n",
       "      <td>2</td>\n",
       "      <td>3884.34</td>\n",
       "      <td>7/1/2003 0:00</td>\n",
       "      <td>Shipped</td>\n",
       "      <td>3</td>\n",
       "      <td>7</td>\n",
       "      <td>2003</td>\n",
       "      <td>Motorcycles</td>\n",
       "      <td>95</td>\n",
       "      <td>S10_1678</td>\n",
       "      <td>Lyon Souveniers</td>\n",
       "      <td>Paris</td>\n",
       "      <td>NaN</td>\n",
       "      <td>75508</td>\n",
       "      <td>France</td>\n",
       "      <td>Medium</td>\n",
       "    </tr>\n",
       "    <tr>\n",
       "      <th>3</th>\n",
       "      <td>10145</td>\n",
       "      <td>45</td>\n",
       "      <td>83.26</td>\n",
       "      <td>6</td>\n",
       "      <td>3746.70</td>\n",
       "      <td>8/25/2003 0:00</td>\n",
       "      <td>Shipped</td>\n",
       "      <td>3</td>\n",
       "      <td>8</td>\n",
       "      <td>2003</td>\n",
       "      <td>Motorcycles</td>\n",
       "      <td>95</td>\n",
       "      <td>S10_1678</td>\n",
       "      <td>Toys4GrownUps.com</td>\n",
       "      <td>Pasadena</td>\n",
       "      <td>CA</td>\n",
       "      <td>90003</td>\n",
       "      <td>USA</td>\n",
       "      <td>Medium</td>\n",
       "    </tr>\n",
       "    <tr>\n",
       "      <th>4</th>\n",
       "      <td>10159</td>\n",
       "      <td>49</td>\n",
       "      <td>100.00</td>\n",
       "      <td>14</td>\n",
       "      <td>5205.27</td>\n",
       "      <td>10/10/2003 0:00</td>\n",
       "      <td>Shipped</td>\n",
       "      <td>4</td>\n",
       "      <td>10</td>\n",
       "      <td>2003</td>\n",
       "      <td>Motorcycles</td>\n",
       "      <td>95</td>\n",
       "      <td>S10_1678</td>\n",
       "      <td>Corporate Gift Ideas Co.</td>\n",
       "      <td>San Francisco</td>\n",
       "      <td>CA</td>\n",
       "      <td>NaN</td>\n",
       "      <td>USA</td>\n",
       "      <td>Medium</td>\n",
       "    </tr>\n",
       "  </tbody>\n",
       "</table>\n",
       "</div>"
      ],
      "text/plain": [
       "   ORDERNUMBER  QUANTITYORDERED  PRICEEACH  ORDERLINENUMBER    SALES  \\\n",
       "0        10107               30      95.70                2  2871.00   \n",
       "1        10121               34      81.35                5  2765.90   \n",
       "2        10134               41      94.74                2  3884.34   \n",
       "3        10145               45      83.26                6  3746.70   \n",
       "4        10159               49     100.00               14  5205.27   \n",
       "\n",
       "         ORDERDATE   STATUS  QTR_ID  MONTH_ID  YEAR_ID  PRODUCTLINE  MSRP  \\\n",
       "0   2/24/2003 0:00  Shipped       1         2     2003  Motorcycles    95   \n",
       "1    5/7/2003 0:00  Shipped       2         5     2003  Motorcycles    95   \n",
       "2    7/1/2003 0:00  Shipped       3         7     2003  Motorcycles    95   \n",
       "3   8/25/2003 0:00  Shipped       3         8     2003  Motorcycles    95   \n",
       "4  10/10/2003 0:00  Shipped       4        10     2003  Motorcycles    95   \n",
       "\n",
       "  PRODUCTCODE              CUSTOMERNAME           CITY STATE POSTALCODE  \\\n",
       "0    S10_1678         Land of Toys Inc.            NYC    NY      10022   \n",
       "1    S10_1678        Reims Collectables          Reims   NaN      51100   \n",
       "2    S10_1678           Lyon Souveniers          Paris   NaN      75508   \n",
       "3    S10_1678         Toys4GrownUps.com       Pasadena    CA      90003   \n",
       "4    S10_1678  Corporate Gift Ideas Co.  San Francisco    CA        NaN   \n",
       "\n",
       "  COUNTRY DEALSIZE  \n",
       "0     USA    Small  \n",
       "1  France    Small  \n",
       "2  France   Medium  \n",
       "3     USA   Medium  \n",
       "4     USA   Medium  "
      ]
     },
     "execution_count": 7,
     "metadata": {},
     "output_type": "execute_result"
    }
   ],
   "source": [
    "# View sample data\n",
    "global_sales_df.head(5)"
   ]
  },
  {
   "cell_type": "code",
   "execution_count": 8,
   "metadata": {
    "colab": {
     "base_uri": "https://localhost:8080/",
     "height": 679
    },
    "executionInfo": {
     "elapsed": 14,
     "status": "ok",
     "timestamp": 1747758150672,
     "user": {
      "displayName": "Ewe Li Wei",
      "userId": "18295529536115247948"
     },
     "user_tz": -480
    },
    "id": "g5Z5TBV6w8Z3",
    "outputId": "c8e5fac9-9f08-4290-87f1-ee6ff8f6d2a9"
   },
   "outputs": [
    {
     "data": {
      "text/plain": [
       "ORDERNUMBER          int64\n",
       "QUANTITYORDERED      int64\n",
       "PRICEEACH          float64\n",
       "ORDERLINENUMBER      int64\n",
       "SALES              float64\n",
       "ORDERDATE           object\n",
       "STATUS              object\n",
       "QTR_ID               int64\n",
       "MONTH_ID             int64\n",
       "YEAR_ID              int64\n",
       "PRODUCTLINE         object\n",
       "MSRP                 int64\n",
       "PRODUCTCODE         object\n",
       "CUSTOMERNAME        object\n",
       "CITY                object\n",
       "STATE               object\n",
       "POSTALCODE          object\n",
       "COUNTRY             object\n",
       "DEALSIZE            object\n",
       "dtype: object"
      ]
     },
     "execution_count": 8,
     "metadata": {},
     "output_type": "execute_result"
    }
   ],
   "source": [
    "# View data types\n",
    "global_sales_df.dtypes"
   ]
  },
  {
   "cell_type": "code",
   "execution_count": 9,
   "metadata": {
    "colab": {
     "base_uri": "https://localhost:8080/"
    },
    "executionInfo": {
     "elapsed": 10,
     "status": "ok",
     "timestamp": 1747758150683,
     "user": {
      "displayName": "Ewe Li Wei",
      "userId": "18295529536115247948"
     },
     "user_tz": -480
    },
    "id": "g6_GbBQfzTgb",
    "outputId": "6497d9b1-8ba3-413b-ad16-4d2b62386497"
   },
   "outputs": [
    {
     "name": "stdout",
     "output_type": "stream",
     "text": [
      "<class 'pandas.core.frame.DataFrame'>\n",
      "RangeIndex: 2823 entries, 0 to 2822\n",
      "Data columns (total 19 columns):\n",
      " #   Column           Non-Null Count  Dtype  \n",
      "---  ------           --------------  -----  \n",
      " 0   ORDERNUMBER      2823 non-null   int64  \n",
      " 1   QUANTITYORDERED  2823 non-null   int64  \n",
      " 2   PRICEEACH        2823 non-null   float64\n",
      " 3   ORDERLINENUMBER  2823 non-null   int64  \n",
      " 4   SALES            2823 non-null   float64\n",
      " 5   ORDERDATE        2823 non-null   object \n",
      " 6   STATUS           2823 non-null   object \n",
      " 7   QTR_ID           2823 non-null   int64  \n",
      " 8   MONTH_ID         2823 non-null   int64  \n",
      " 9   YEAR_ID          2823 non-null   int64  \n",
      " 10  PRODUCTLINE      2823 non-null   object \n",
      " 11  MSRP             2823 non-null   int64  \n",
      " 12  PRODUCTCODE      2823 non-null   object \n",
      " 13  CUSTOMERNAME     2823 non-null   object \n",
      " 14  CITY             2823 non-null   object \n",
      " 15  STATE            1337 non-null   object \n",
      " 16  POSTALCODE       2747 non-null   object \n",
      " 17  COUNTRY          2823 non-null   object \n",
      " 18  DEALSIZE         2823 non-null   object \n",
      "dtypes: float64(2), int64(7), object(10)\n",
      "memory usage: 419.2+ KB\n"
     ]
    }
   ],
   "source": [
    "global_sales_df.info()"
   ]
  },
  {
   "cell_type": "code",
   "execution_count": 10,
   "metadata": {
    "colab": {
     "base_uri": "https://localhost:8080/",
     "height": 300
    },
    "executionInfo": {
     "elapsed": 191,
     "status": "ok",
     "timestamp": 1747758150875,
     "user": {
      "displayName": "Ewe Li Wei",
      "userId": "18295529536115247948"
     },
     "user_tz": -480
    },
    "id": "-SC1DbPkzbOO",
    "outputId": "6846866f-b09c-4860-9add-6155fa75b265"
   },
   "outputs": [
    {
     "data": {
      "text/html": [
       "<div>\n",
       "<style scoped>\n",
       "    .dataframe tbody tr th:only-of-type {\n",
       "        vertical-align: middle;\n",
       "    }\n",
       "\n",
       "    .dataframe tbody tr th {\n",
       "        vertical-align: top;\n",
       "    }\n",
       "\n",
       "    .dataframe thead th {\n",
       "        text-align: right;\n",
       "    }\n",
       "</style>\n",
       "<table border=\"1\" class=\"dataframe\">\n",
       "  <thead>\n",
       "    <tr style=\"text-align: right;\">\n",
       "      <th></th>\n",
       "      <th>ORDERNUMBER</th>\n",
       "      <th>QUANTITYORDERED</th>\n",
       "      <th>PRICEEACH</th>\n",
       "      <th>ORDERLINENUMBER</th>\n",
       "      <th>SALES</th>\n",
       "      <th>QTR_ID</th>\n",
       "      <th>MONTH_ID</th>\n",
       "      <th>YEAR_ID</th>\n",
       "      <th>MSRP</th>\n",
       "    </tr>\n",
       "  </thead>\n",
       "  <tbody>\n",
       "    <tr>\n",
       "      <th>count</th>\n",
       "      <td>2823.000000</td>\n",
       "      <td>2823.000000</td>\n",
       "      <td>2823.000000</td>\n",
       "      <td>2823.000000</td>\n",
       "      <td>2823.000000</td>\n",
       "      <td>2823.000000</td>\n",
       "      <td>2823.000000</td>\n",
       "      <td>2823.00000</td>\n",
       "      <td>2823.000000</td>\n",
       "    </tr>\n",
       "    <tr>\n",
       "      <th>mean</th>\n",
       "      <td>10258.725115</td>\n",
       "      <td>35.092809</td>\n",
       "      <td>83.658544</td>\n",
       "      <td>6.466171</td>\n",
       "      <td>3553.889072</td>\n",
       "      <td>2.717676</td>\n",
       "      <td>7.092455</td>\n",
       "      <td>2003.81509</td>\n",
       "      <td>100.715551</td>\n",
       "    </tr>\n",
       "    <tr>\n",
       "      <th>std</th>\n",
       "      <td>92.085478</td>\n",
       "      <td>9.741443</td>\n",
       "      <td>20.174277</td>\n",
       "      <td>4.225841</td>\n",
       "      <td>1841.865106</td>\n",
       "      <td>1.203878</td>\n",
       "      <td>3.656633</td>\n",
       "      <td>0.69967</td>\n",
       "      <td>40.187912</td>\n",
       "    </tr>\n",
       "    <tr>\n",
       "      <th>min</th>\n",
       "      <td>10100.000000</td>\n",
       "      <td>6.000000</td>\n",
       "      <td>26.880000</td>\n",
       "      <td>1.000000</td>\n",
       "      <td>482.130000</td>\n",
       "      <td>1.000000</td>\n",
       "      <td>1.000000</td>\n",
       "      <td>2003.00000</td>\n",
       "      <td>33.000000</td>\n",
       "    </tr>\n",
       "    <tr>\n",
       "      <th>25%</th>\n",
       "      <td>10180.000000</td>\n",
       "      <td>27.000000</td>\n",
       "      <td>68.860000</td>\n",
       "      <td>3.000000</td>\n",
       "      <td>2203.430000</td>\n",
       "      <td>2.000000</td>\n",
       "      <td>4.000000</td>\n",
       "      <td>2003.00000</td>\n",
       "      <td>68.000000</td>\n",
       "    </tr>\n",
       "    <tr>\n",
       "      <th>50%</th>\n",
       "      <td>10262.000000</td>\n",
       "      <td>35.000000</td>\n",
       "      <td>95.700000</td>\n",
       "      <td>6.000000</td>\n",
       "      <td>3184.800000</td>\n",
       "      <td>3.000000</td>\n",
       "      <td>8.000000</td>\n",
       "      <td>2004.00000</td>\n",
       "      <td>99.000000</td>\n",
       "    </tr>\n",
       "    <tr>\n",
       "      <th>75%</th>\n",
       "      <td>10333.500000</td>\n",
       "      <td>43.000000</td>\n",
       "      <td>100.000000</td>\n",
       "      <td>9.000000</td>\n",
       "      <td>4508.000000</td>\n",
       "      <td>4.000000</td>\n",
       "      <td>11.000000</td>\n",
       "      <td>2004.00000</td>\n",
       "      <td>124.000000</td>\n",
       "    </tr>\n",
       "    <tr>\n",
       "      <th>max</th>\n",
       "      <td>10425.000000</td>\n",
       "      <td>97.000000</td>\n",
       "      <td>100.000000</td>\n",
       "      <td>18.000000</td>\n",
       "      <td>14082.800000</td>\n",
       "      <td>4.000000</td>\n",
       "      <td>12.000000</td>\n",
       "      <td>2005.00000</td>\n",
       "      <td>214.000000</td>\n",
       "    </tr>\n",
       "  </tbody>\n",
       "</table>\n",
       "</div>"
      ],
      "text/plain": [
       "        ORDERNUMBER  QUANTITYORDERED    PRICEEACH  ORDERLINENUMBER  \\\n",
       "count   2823.000000      2823.000000  2823.000000      2823.000000   \n",
       "mean   10258.725115        35.092809    83.658544         6.466171   \n",
       "std       92.085478         9.741443    20.174277         4.225841   \n",
       "min    10100.000000         6.000000    26.880000         1.000000   \n",
       "25%    10180.000000        27.000000    68.860000         3.000000   \n",
       "50%    10262.000000        35.000000    95.700000         6.000000   \n",
       "75%    10333.500000        43.000000   100.000000         9.000000   \n",
       "max    10425.000000        97.000000   100.000000        18.000000   \n",
       "\n",
       "              SALES       QTR_ID     MONTH_ID     YEAR_ID         MSRP  \n",
       "count   2823.000000  2823.000000  2823.000000  2823.00000  2823.000000  \n",
       "mean    3553.889072     2.717676     7.092455  2003.81509   100.715551  \n",
       "std     1841.865106     1.203878     3.656633     0.69967    40.187912  \n",
       "min      482.130000     1.000000     1.000000  2003.00000    33.000000  \n",
       "25%     2203.430000     2.000000     4.000000  2003.00000    68.000000  \n",
       "50%     3184.800000     3.000000     8.000000  2004.00000    99.000000  \n",
       "75%     4508.000000     4.000000    11.000000  2004.00000   124.000000  \n",
       "max    14082.800000     4.000000    12.000000  2005.00000   214.000000  "
      ]
     },
     "execution_count": 10,
     "metadata": {},
     "output_type": "execute_result"
    }
   ],
   "source": [
    "# Numerical columns\n",
    "global_sales_df.describe()"
   ]
  },
  {
   "cell_type": "code",
   "execution_count": 11,
   "metadata": {
    "colab": {
     "base_uri": "https://localhost:8080/",
     "height": 174
    },
    "executionInfo": {
     "elapsed": 208,
     "status": "ok",
     "timestamp": 1747758151084,
     "user": {
      "displayName": "Ewe Li Wei",
      "userId": "18295529536115247948"
     },
     "user_tz": -480
    },
    "id": "ZnMynLJRzlJI",
    "outputId": "a6357d03-9bfb-4e3f-c3bb-ae37e978e832"
   },
   "outputs": [
    {
     "data": {
      "text/html": [
       "<div>\n",
       "<style scoped>\n",
       "    .dataframe tbody tr th:only-of-type {\n",
       "        vertical-align: middle;\n",
       "    }\n",
       "\n",
       "    .dataframe tbody tr th {\n",
       "        vertical-align: top;\n",
       "    }\n",
       "\n",
       "    .dataframe thead th {\n",
       "        text-align: right;\n",
       "    }\n",
       "</style>\n",
       "<table border=\"1\" class=\"dataframe\">\n",
       "  <thead>\n",
       "    <tr style=\"text-align: right;\">\n",
       "      <th></th>\n",
       "      <th>ORDERDATE</th>\n",
       "      <th>STATUS</th>\n",
       "      <th>PRODUCTLINE</th>\n",
       "      <th>PRODUCTCODE</th>\n",
       "      <th>CUSTOMERNAME</th>\n",
       "      <th>CITY</th>\n",
       "      <th>STATE</th>\n",
       "      <th>POSTALCODE</th>\n",
       "      <th>COUNTRY</th>\n",
       "      <th>DEALSIZE</th>\n",
       "    </tr>\n",
       "  </thead>\n",
       "  <tbody>\n",
       "    <tr>\n",
       "      <th>count</th>\n",
       "      <td>2823</td>\n",
       "      <td>2823</td>\n",
       "      <td>2823</td>\n",
       "      <td>2823</td>\n",
       "      <td>2823</td>\n",
       "      <td>2823</td>\n",
       "      <td>1337</td>\n",
       "      <td>2747</td>\n",
       "      <td>2823</td>\n",
       "      <td>2823</td>\n",
       "    </tr>\n",
       "    <tr>\n",
       "      <th>unique</th>\n",
       "      <td>252</td>\n",
       "      <td>6</td>\n",
       "      <td>7</td>\n",
       "      <td>109</td>\n",
       "      <td>92</td>\n",
       "      <td>73</td>\n",
       "      <td>16</td>\n",
       "      <td>73</td>\n",
       "      <td>19</td>\n",
       "      <td>3</td>\n",
       "    </tr>\n",
       "    <tr>\n",
       "      <th>top</th>\n",
       "      <td>11/14/2003 0:00</td>\n",
       "      <td>Shipped</td>\n",
       "      <td>Classic Cars</td>\n",
       "      <td>S18_3232</td>\n",
       "      <td>Euro Shopping Channel</td>\n",
       "      <td>Madrid</td>\n",
       "      <td>CA</td>\n",
       "      <td>28034</td>\n",
       "      <td>USA</td>\n",
       "      <td>Medium</td>\n",
       "    </tr>\n",
       "    <tr>\n",
       "      <th>freq</th>\n",
       "      <td>38</td>\n",
       "      <td>2617</td>\n",
       "      <td>967</td>\n",
       "      <td>52</td>\n",
       "      <td>259</td>\n",
       "      <td>304</td>\n",
       "      <td>416</td>\n",
       "      <td>259</td>\n",
       "      <td>1004</td>\n",
       "      <td>1384</td>\n",
       "    </tr>\n",
       "  </tbody>\n",
       "</table>\n",
       "</div>"
      ],
      "text/plain": [
       "              ORDERDATE   STATUS   PRODUCTLINE PRODUCTCODE  \\\n",
       "count              2823     2823          2823        2823   \n",
       "unique              252        6             7         109   \n",
       "top     11/14/2003 0:00  Shipped  Classic Cars    S18_3232   \n",
       "freq                 38     2617           967          52   \n",
       "\n",
       "                 CUSTOMERNAME    CITY STATE POSTALCODE COUNTRY DEALSIZE  \n",
       "count                    2823    2823  1337       2747    2823     2823  \n",
       "unique                     92      73    16         73      19        3  \n",
       "top     Euro Shopping Channel  Madrid    CA      28034     USA   Medium  \n",
       "freq                      259     304   416        259    1004     1384  "
      ]
     },
     "execution_count": 11,
     "metadata": {},
     "output_type": "execute_result"
    }
   ],
   "source": [
    "# Categorical columns\n",
    "global_sales_df.describe(include='object')"
   ]
  },
  {
   "cell_type": "code",
   "execution_count": 12,
   "metadata": {
    "colab": {
     "base_uri": "https://localhost:8080/"
    },
    "executionInfo": {
     "elapsed": 40,
     "status": "ok",
     "timestamp": 1747758151951,
     "user": {
      "displayName": "Ewe Li Wei",
      "userId": "18295529536115247948"
     },
     "user_tz": -480
    },
    "id": "9_1unsuSTnur",
    "outputId": "7fac01a8-5cdf-4f53-eb48-6ff94e132a14"
   },
   "outputs": [
    {
     "name": "stdout",
     "output_type": "stream",
     "text": [
      "ORDERNUMBER           0\n",
      "QUANTITYORDERED       0\n",
      "PRICEEACH             0\n",
      "ORDERLINENUMBER       0\n",
      "SALES                 0\n",
      "ORDERDATE             0\n",
      "STATUS                0\n",
      "QTR_ID                0\n",
      "MONTH_ID              0\n",
      "YEAR_ID               0\n",
      "PRODUCTLINE           0\n",
      "MSRP                  0\n",
      "PRODUCTCODE           0\n",
      "CUSTOMERNAME          0\n",
      "CITY                  0\n",
      "STATE              1486\n",
      "POSTALCODE           76\n",
      "COUNTRY               0\n",
      "DEALSIZE              0\n",
      "dtype: int64\n",
      "\n",
      " Missing Values (%):\n",
      "STATE         52.639036\n",
      "POSTALCODE     2.692171\n",
      "dtype: float64\n"
     ]
    }
   ],
   "source": [
    "# Missing Values\n",
    "print(global_sales_df.isnull().sum())\n",
    "\n",
    "# Missing values as a percentage\n",
    "missing_percent = global_sales_df.isnull().mean() * 100\n",
    "missing_percent = missing_percent[missing_percent > 0].sort_values(ascending=False)\n",
    "\n",
    "print(\"\\n Missing Values (%):\")\n",
    "print(missing_percent)"
   ]
  },
  {
   "cell_type": "code",
   "execution_count": 13,
   "metadata": {
    "colab": {
     "base_uri": "https://localhost:8080/",
     "height": 518
    },
    "executionInfo": {
     "elapsed": 1168,
     "status": "ok",
     "timestamp": 1747758153139,
     "user": {
      "displayName": "Ewe Li Wei",
      "userId": "18295529536115247948"
     },
     "user_tz": -480
    },
    "id": "KhreqID0T2iZ",
    "outputId": "229a8baa-d0f3-4bff-a822-48559cf0a2ae"
   },
   "outputs": [
    {
     "data": {
      "image/png": "[encoded data removed]",
      "text/plain": [
       "<Figure size 1000x400 with 1 Axes>"
      ]
     },
     "metadata": {},
     "output_type": "display_data"
    }
   ],
   "source": [
    "# Visualize missing values\n",
    "plt.figure(figsize=(10, 4))\n",
    "global_sales_df.isnull().mean().sort_values(ascending=False).plot.bar()\n",
    "plt.title(\"Missing Values (%)\")\n",
    "plt.show()"
   ]
  },
  {
   "cell_type": "code",
   "execution_count": 14,
   "metadata": {
    "colab": {
     "base_uri": "https://localhost:8080/"
    },
    "executionInfo": {
     "elapsed": 7,
     "status": "ok",
     "timestamp": 1747758153147,
     "user": {
      "displayName": "Ewe Li Wei",
      "userId": "18295529536115247948"
     },
     "user_tz": -480
    },
    "id": "OvhV6SZCT96D",
    "outputId": "11470f95-cb83-4946-b8eb-7f5e8d133fca"
   },
   "outputs": [
    {
     "name": "stdout",
     "output_type": "stream",
     "text": [
      "\n",
      "Total Duplicates: 0\n",
      "\n",
      "Sample Records (if any):\n",
      "Empty DataFrame\n",
      "Columns: [ORDERNUMBER, QUANTITYORDERED, PRICEEACH, ORDERLINENUMBER, SALES, ORDERDATE, STATUS, QTR_ID, MONTH_ID, YEAR_ID, PRODUCTLINE, MSRP, PRODUCTCODE, CUSTOMERNAME, CITY, STATE, POSTALCODE, COUNTRY, DEALSIZE]\n",
      "Index: []\n"
     ]
    }
   ],
   "source": [
    "# Identify Duplcated Records\n",
    "print(f\"\\nTotal Duplicates: {global_sales_df.duplicated().sum()}\")\n",
    "print(\"\\nSample Records (if any):\")\n",
    "print(global_sales_df[global_sales_df.duplicated(keep=False)].head())"
   ]
  },
  {
   "cell_type": "code",
   "execution_count": 15,
   "metadata": {
    "colab": {
     "base_uri": "https://localhost:8080/",
     "height": 472
    },
    "executionInfo": {
     "elapsed": 484,
     "status": "ok",
     "timestamp": 1747758154139,
     "user": {
      "displayName": "Ewe Li Wei",
      "userId": "18295529536115247948"
     },
     "user_tz": -480
    },
    "id": "03XhbMPYVX1s",
    "outputId": "f79023dc-49f9-42c7-80ff-22c9b89588cb"
   },
   "outputs": [
    {
     "data": {
      "image/png": "[encoded data removed]",
      "text/plain": [
       "<Figure size 640x480 with 1 Axes>"
      ]
     },
     "metadata": {},
     "output_type": "display_data"
    }
   ],
   "source": [
    "# Identify outliers with boxplots (numerical columns)\n",
    "global_sales_df.select_dtypes(include=['int64', 'float64']).plot.box(\n",
    "    vert=False,\n",
    "    patch_artist=True,\n",
    "    grid=True\n",
    ")\n",
    "plt.title(\"Box Plots of All Numeric Columns (Outlier Detection)\")\n",
    "plt.xlabel(\"Values\")\n",
    "plt.show()"
   ]
  },
  {
   "cell_type": "code",
   "execution_count": 16,
   "metadata": {},
   "outputs": [
    {
     "data": {
      "image/png": "[encoded data removed]",
      "text/plain": [
       "<Figure size 600x400 with 1 Axes>"
      ]
     },
     "metadata": {},
     "output_type": "display_data"
    }
   ],
   "source": [
    "# Count of Orders by Status\n",
    "status_counts = global_sales_df['STATUS'].value_counts()\n",
    "\n",
    "plt.figure(figsize=(6,4))\n",
    "sns.barplot(x=status_counts.index, y=status_counts.values)\n",
    "plt.title('Count of Orders by Status')\n",
    "plt.xlabel('Order Status')\n",
    "plt.ylabel('Count of Orders')\n",
    "plt.xticks(rotation=45)\n",
    "plt.show()"
   ]
  },
  {
   "cell_type": "markdown",
   "metadata": {},
   "source": [
    "# Data Transformation"
   ]
  },
  {
   "cell_type": "code",
   "execution_count": 17,
   "metadata": {},
   "outputs": [],
   "source": [
    "transformer = DataTransformer(global_sales_df)\n",
    "transformer.format_column_names_to_snake_case()\n",
    "transformer.trim_spaces()\n",
    "transformer.fill_missing_numeric()\n",
    "transformer.fill_missing_categorical()\n",
    "transformer.convert_datetime_col(['orderdate'])\n",
    "transformer.standardize_text_columns(['status'])\n",
    "cleaned_df = transformer.get_transformed_data()"
   ]
  },
  {
   "cell_type": "code",
   "execution_count": 18,
   "metadata": {},
   "outputs": [
    {
     "data": {
      "text/html": [
       "<style type=\"text/css\">\n",
       "#T_ab413_row0_col0, #T_ab413_row0_col1, #T_ab413_row0_col2, #T_ab413_row0_col3, #T_ab413_row0_col4, #T_ab413_row0_col5, #T_ab413_row0_col6, #T_ab413_row0_col7, #T_ab413_row0_col8, #T_ab413_row0_col9, #T_ab413_row0_col10, #T_ab413_row0_col11, #T_ab413_row0_col12, #T_ab413_row0_col13, #T_ab413_row0_col14, #T_ab413_row0_col15, #T_ab413_row0_col16, #T_ab413_row0_col17, #T_ab413_row0_col18, #T_ab413_row1_col0, #T_ab413_row1_col1, #T_ab413_row1_col2, #T_ab413_row1_col3, #T_ab413_row1_col4, #T_ab413_row1_col5, #T_ab413_row1_col6, #T_ab413_row1_col7, #T_ab413_row1_col8, #T_ab413_row1_col9, #T_ab413_row1_col10, #T_ab413_row1_col11, #T_ab413_row1_col12, #T_ab413_row1_col13, #T_ab413_row1_col14, #T_ab413_row1_col15, #T_ab413_row1_col16, #T_ab413_row1_col17, #T_ab413_row1_col18, #T_ab413_row2_col0, #T_ab413_row2_col1, #T_ab413_row2_col2, #T_ab413_row2_col3, #T_ab413_row2_col4, #T_ab413_row2_col5, #T_ab413_row2_col6, #T_ab413_row2_col7, #T_ab413_row2_col8, #T_ab413_row2_col9, #T_ab413_row2_col10, #T_ab413_row2_col11, #T_ab413_row2_col12, #T_ab413_row2_col13, #T_ab413_row2_col14, #T_ab413_row2_col15, #T_ab413_row2_col16, #T_ab413_row2_col17, #T_ab413_row2_col18, #T_ab413_row3_col0, #T_ab413_row3_col1, #T_ab413_row3_col2, #T_ab413_row3_col3, #T_ab413_row3_col4, #T_ab413_row3_col5, #T_ab413_row3_col6, #T_ab413_row3_col7, #T_ab413_row3_col8, #T_ab413_row3_col9, #T_ab413_row3_col10, #T_ab413_row3_col11, #T_ab413_row3_col12, #T_ab413_row3_col13, #T_ab413_row3_col14, #T_ab413_row3_col15, #T_ab413_row3_col16, #T_ab413_row3_col17, #T_ab413_row3_col18, #T_ab413_row4_col0, #T_ab413_row4_col1, #T_ab413_row4_col2, #T_ab413_row4_col3, #T_ab413_row4_col4, #T_ab413_row4_col5, #T_ab413_row4_col6, #T_ab413_row4_col7, #T_ab413_row4_col8, #T_ab413_row4_col9, #T_ab413_row4_col10, #T_ab413_row4_col11, #T_ab413_row4_col12, #T_ab413_row4_col13, #T_ab413_row4_col14, #T_ab413_row4_col15, #T_ab413_row4_col16, #T_ab413_row4_col17, #T_ab413_row4_col18 {\n",
       "  text-align: left;\n",
       "}\n",
       "</style>\n",
       "<table id=\"T_ab413\">\n",
       "  <thead>\n",
       "    <tr>\n",
       "      <th class=\"blank level0\" >&nbsp;</th>\n",
       "      <th id=\"T_ab413_level0_col0\" class=\"col_heading level0 col0\" >ordernumber</th>\n",
       "      <th id=\"T_ab413_level0_col1\" class=\"col_heading level0 col1\" >quantityordered</th>\n",
       "      <th id=\"T_ab413_level0_col2\" class=\"col_heading level0 col2\" >priceeach</th>\n",
       "      <th id=\"T_ab413_level0_col3\" class=\"col_heading level0 col3\" >orderlinenumber</th>\n",
       "      <th id=\"T_ab413_level0_col4\" class=\"col_heading level0 col4\" >sales</th>\n",
       "      <th id=\"T_ab413_level0_col5\" class=\"col_heading level0 col5\" >orderdate</th>\n",
       "      <th id=\"T_ab413_level0_col6\" class=\"col_heading level0 col6\" >status</th>\n",
       "      <th id=\"T_ab413_level0_col7\" class=\"col_heading level0 col7\" >qtr_id</th>\n",
       "      <th id=\"T_ab413_level0_col8\" class=\"col_heading level0 col8\" >month_id</th>\n",
       "      <th id=\"T_ab413_level0_col9\" class=\"col_heading level0 col9\" >year_id</th>\n",
       "      <th id=\"T_ab413_level0_col10\" class=\"col_heading level0 col10\" >productline</th>\n",
       "      <th id=\"T_ab413_level0_col11\" class=\"col_heading level0 col11\" >msrp</th>\n",
       "      <th id=\"T_ab413_level0_col12\" class=\"col_heading level0 col12\" >productcode</th>\n",
       "      <th id=\"T_ab413_level0_col13\" class=\"col_heading level0 col13\" >customername</th>\n",
       "      <th id=\"T_ab413_level0_col14\" class=\"col_heading level0 col14\" >city</th>\n",
       "      <th id=\"T_ab413_level0_col15\" class=\"col_heading level0 col15\" >state</th>\n",
       "      <th id=\"T_ab413_level0_col16\" class=\"col_heading level0 col16\" >postalcode</th>\n",
       "      <th id=\"T_ab413_level0_col17\" class=\"col_heading level0 col17\" >country</th>\n",
       "      <th id=\"T_ab413_level0_col18\" class=\"col_heading level0 col18\" >dealsize</th>\n",
       "    </tr>\n",
       "  </thead>\n",
       "  <tbody>\n",
       "    <tr>\n",
       "      <th id=\"T_ab413_level0_row0\" class=\"row_heading level0 row0\" >0</th>\n",
       "      <td id=\"T_ab413_row0_col0\" class=\"data row0 col0\" >10107</td>\n",
       "      <td id=\"T_ab413_row0_col1\" class=\"data row0 col1\" >30</td>\n",
       "      <td id=\"T_ab413_row0_col2\" class=\"data row0 col2\" >95.700000</td>\n",
       "      <td id=\"T_ab413_row0_col3\" class=\"data row0 col3\" >2</td>\n",
       "      <td id=\"T_ab413_row0_col4\" class=\"data row0 col4\" >2871.000000</td>\n",
       "      <td id=\"T_ab413_row0_col5\" class=\"data row0 col5\" >2003-02-24 00:00:00</td>\n",
       "      <td id=\"T_ab413_row0_col6\" class=\"data row0 col6\" >SHIPPED</td>\n",
       "      <td id=\"T_ab413_row0_col7\" class=\"data row0 col7\" >1</td>\n",
       "      <td id=\"T_ab413_row0_col8\" class=\"data row0 col8\" >2</td>\n",
       "      <td id=\"T_ab413_row0_col9\" class=\"data row0 col9\" >2003</td>\n",
       "      <td id=\"T_ab413_row0_col10\" class=\"data row0 col10\" >Motorcycles</td>\n",
       "      <td id=\"T_ab413_row0_col11\" class=\"data row0 col11\" >95</td>\n",
       "      <td id=\"T_ab413_row0_col12\" class=\"data row0 col12\" >S10_1678</td>\n",
       "      <td id=\"T_ab413_row0_col13\" class=\"data row0 col13\" >Land of Toys Inc.</td>\n",
       "      <td id=\"T_ab413_row0_col14\" class=\"data row0 col14\" >NYC</td>\n",
       "      <td id=\"T_ab413_row0_col15\" class=\"data row0 col15\" >NY</td>\n",
       "      <td id=\"T_ab413_row0_col16\" class=\"data row0 col16\" >10022</td>\n",
       "      <td id=\"T_ab413_row0_col17\" class=\"data row0 col17\" >USA</td>\n",
       "      <td id=\"T_ab413_row0_col18\" class=\"data row0 col18\" >Small</td>\n",
       "    </tr>\n",
       "    <tr>\n",
       "      <th id=\"T_ab413_level0_row1\" class=\"row_heading level0 row1\" >1</th>\n",
       "      <td id=\"T_ab413_row1_col0\" class=\"data row1 col0\" >10121</td>\n",
       "      <td id=\"T_ab413_row1_col1\" class=\"data row1 col1\" >34</td>\n",
       "      <td id=\"T_ab413_row1_col2\" class=\"data row1 col2\" >81.350000</td>\n",
       "      <td id=\"T_ab413_row1_col3\" class=\"data row1 col3\" >5</td>\n",
       "      <td id=\"T_ab413_row1_col4\" class=\"data row1 col4\" >2765.900000</td>\n",
       "      <td id=\"T_ab413_row1_col5\" class=\"data row1 col5\" >2003-05-07 00:00:00</td>\n",
       "      <td id=\"T_ab413_row1_col6\" class=\"data row1 col6\" >SHIPPED</td>\n",
       "      <td id=\"T_ab413_row1_col7\" class=\"data row1 col7\" >2</td>\n",
       "      <td id=\"T_ab413_row1_col8\" class=\"data row1 col8\" >5</td>\n",
       "      <td id=\"T_ab413_row1_col9\" class=\"data row1 col9\" >2003</td>\n",
       "      <td id=\"T_ab413_row1_col10\" class=\"data row1 col10\" >Motorcycles</td>\n",
       "      <td id=\"T_ab413_row1_col11\" class=\"data row1 col11\" >95</td>\n",
       "      <td id=\"T_ab413_row1_col12\" class=\"data row1 col12\" >S10_1678</td>\n",
       "      <td id=\"T_ab413_row1_col13\" class=\"data row1 col13\" >Reims Collectables</td>\n",
       "      <td id=\"T_ab413_row1_col14\" class=\"data row1 col14\" >Reims</td>\n",
       "      <td id=\"T_ab413_row1_col15\" class=\"data row1 col15\" >NA</td>\n",
       "      <td id=\"T_ab413_row1_col16\" class=\"data row1 col16\" >51100</td>\n",
       "      <td id=\"T_ab413_row1_col17\" class=\"data row1 col17\" >France</td>\n",
       "      <td id=\"T_ab413_row1_col18\" class=\"data row1 col18\" >Small</td>\n",
       "    </tr>\n",
       "    <tr>\n",
       "      <th id=\"T_ab413_level0_row2\" class=\"row_heading level0 row2\" >2</th>\n",
       "      <td id=\"T_ab413_row2_col0\" class=\"data row2 col0\" >10134</td>\n",
       "      <td id=\"T_ab413_row2_col1\" class=\"data row2 col1\" >41</td>\n",
       "      <td id=\"T_ab413_row2_col2\" class=\"data row2 col2\" >94.740000</td>\n",
       "      <td id=\"T_ab413_row2_col3\" class=\"data row2 col3\" >2</td>\n",
       "      <td id=\"T_ab413_row2_col4\" class=\"data row2 col4\" >3884.340000</td>\n",
       "      <td id=\"T_ab413_row2_col5\" class=\"data row2 col5\" >2003-07-01 00:00:00</td>\n",
       "      <td id=\"T_ab413_row2_col6\" class=\"data row2 col6\" >SHIPPED</td>\n",
       "      <td id=\"T_ab413_row2_col7\" class=\"data row2 col7\" >3</td>\n",
       "      <td id=\"T_ab413_row2_col8\" class=\"data row2 col8\" >7</td>\n",
       "      <td id=\"T_ab413_row2_col9\" class=\"data row2 col9\" >2003</td>\n",
       "      <td id=\"T_ab413_row2_col10\" class=\"data row2 col10\" >Motorcycles</td>\n",
       "      <td id=\"T_ab413_row2_col11\" class=\"data row2 col11\" >95</td>\n",
       "      <td id=\"T_ab413_row2_col12\" class=\"data row2 col12\" >S10_1678</td>\n",
       "      <td id=\"T_ab413_row2_col13\" class=\"data row2 col13\" >Lyon Souveniers</td>\n",
       "      <td id=\"T_ab413_row2_col14\" class=\"data row2 col14\" >Paris</td>\n",
       "      <td id=\"T_ab413_row2_col15\" class=\"data row2 col15\" >NA</td>\n",
       "      <td id=\"T_ab413_row2_col16\" class=\"data row2 col16\" >75508</td>\n",
       "      <td id=\"T_ab413_row2_col17\" class=\"data row2 col17\" >France</td>\n",
       "      <td id=\"T_ab413_row2_col18\" class=\"data row2 col18\" >Medium</td>\n",
       "    </tr>\n",
       "    <tr>\n",
       "      <th id=\"T_ab413_level0_row3\" class=\"row_heading level0 row3\" >3</th>\n",
       "      <td id=\"T_ab413_row3_col0\" class=\"data row3 col0\" >10145</td>\n",
       "      <td id=\"T_ab413_row3_col1\" class=\"data row3 col1\" >45</td>\n",
       "      <td id=\"T_ab413_row3_col2\" class=\"data row3 col2\" >83.260000</td>\n",
       "      <td id=\"T_ab413_row3_col3\" class=\"data row3 col3\" >6</td>\n",
       "      <td id=\"T_ab413_row3_col4\" class=\"data row3 col4\" >3746.700000</td>\n",
       "      <td id=\"T_ab413_row3_col5\" class=\"data row3 col5\" >2003-08-25 00:00:00</td>\n",
       "      <td id=\"T_ab413_row3_col6\" class=\"data row3 col6\" >SHIPPED</td>\n",
       "      <td id=\"T_ab413_row3_col7\" class=\"data row3 col7\" >3</td>\n",
       "      <td id=\"T_ab413_row3_col8\" class=\"data row3 col8\" >8</td>\n",
       "      <td id=\"T_ab413_row3_col9\" class=\"data row3 col9\" >2003</td>\n",
       "      <td id=\"T_ab413_row3_col10\" class=\"data row3 col10\" >Motorcycles</td>\n",
       "      <td id=\"T_ab413_row3_col11\" class=\"data row3 col11\" >95</td>\n",
       "      <td id=\"T_ab413_row3_col12\" class=\"data row3 col12\" >S10_1678</td>\n",
       "      <td id=\"T_ab413_row3_col13\" class=\"data row3 col13\" >Toys4GrownUps.com</td>\n",
       "      <td id=\"T_ab413_row3_col14\" class=\"data row3 col14\" >Pasadena</td>\n",
       "      <td id=\"T_ab413_row3_col15\" class=\"data row3 col15\" >CA</td>\n",
       "      <td id=\"T_ab413_row3_col16\" class=\"data row3 col16\" >90003</td>\n",
       "      <td id=\"T_ab413_row3_col17\" class=\"data row3 col17\" >USA</td>\n",
       "      <td id=\"T_ab413_row3_col18\" class=\"data row3 col18\" >Medium</td>\n",
       "    </tr>\n",
       "    <tr>\n",
       "      <th id=\"T_ab413_level0_row4\" class=\"row_heading level0 row4\" >4</th>\n",
       "      <td id=\"T_ab413_row4_col0\" class=\"data row4 col0\" >10159</td>\n",
       "      <td id=\"T_ab413_row4_col1\" class=\"data row4 col1\" >49</td>\n",
       "      <td id=\"T_ab413_row4_col2\" class=\"data row4 col2\" >100.000000</td>\n",
       "      <td id=\"T_ab413_row4_col3\" class=\"data row4 col3\" >14</td>\n",
       "      <td id=\"T_ab413_row4_col4\" class=\"data row4 col4\" >5205.270000</td>\n",
       "      <td id=\"T_ab413_row4_col5\" class=\"data row4 col5\" >2003-10-10 00:00:00</td>\n",
       "      <td id=\"T_ab413_row4_col6\" class=\"data row4 col6\" >SHIPPED</td>\n",
       "      <td id=\"T_ab413_row4_col7\" class=\"data row4 col7\" >4</td>\n",
       "      <td id=\"T_ab413_row4_col8\" class=\"data row4 col8\" >10</td>\n",
       "      <td id=\"T_ab413_row4_col9\" class=\"data row4 col9\" >2003</td>\n",
       "      <td id=\"T_ab413_row4_col10\" class=\"data row4 col10\" >Motorcycles</td>\n",
       "      <td id=\"T_ab413_row4_col11\" class=\"data row4 col11\" >95</td>\n",
       "      <td id=\"T_ab413_row4_col12\" class=\"data row4 col12\" >S10_1678</td>\n",
       "      <td id=\"T_ab413_row4_col13\" class=\"data row4 col13\" >Corporate Gift Ideas Co.</td>\n",
       "      <td id=\"T_ab413_row4_col14\" class=\"data row4 col14\" >San Francisco</td>\n",
       "      <td id=\"T_ab413_row4_col15\" class=\"data row4 col15\" >CA</td>\n",
       "      <td id=\"T_ab413_row4_col16\" class=\"data row4 col16\" >NA</td>\n",
       "      <td id=\"T_ab413_row4_col17\" class=\"data row4 col17\" >USA</td>\n",
       "      <td id=\"T_ab413_row4_col18\" class=\"data row4 col18\" >Medium</td>\n",
       "    </tr>\n",
       "  </tbody>\n",
       "</table>\n"
      ],
      "text/plain": [
       "<pandas.io.formats.style.Styler at 0x2363cbc26d0>"
      ]
     },
     "execution_count": 18,
     "metadata": {},
     "output_type": "execute_result"
    }
   ],
   "source": [
    "# View sample data\n",
    "cleaned_df.head(5).style.set_properties(**{'text-align': 'left'})"
   ]
  },
  {
   "cell_type": "markdown",
   "metadata": {},
   "source": [
    "# Data Analysis & Data Visualization"
   ]
  },
  {
   "cell_type": "markdown",
   "metadata": {},
   "source": [
    "# How does each variables correlates to each other ?\n",
    "Key findings:\n",
    "\n",
    "1. From the heat map below, sales shows strong positive correlations with priceeach (0.66), quantityordered (0.55), and msrp (0.64). This implies that higher unit prices and larger quantities ordered tend to result in higher total sales.\n",
    "2. Besides, products with a higher Manufacturer's Suggested Retail Price (MRSP) also seem to be associated with higher revenue, indicating that luxury items may contribute significantly to total sales.\n",
    "\n",
    "2. On the other hand, orderlinenumber exhibits almost no correlation with other variables. If it simply represents the position of an item in an order and doesn't influence or reflect financial metrics like sales or pricing."
   ]
  },
  {
   "cell_type": "code",
   "execution_count": 19,
   "metadata": {},
   "outputs": [
    {
     "data": {
      "image/png": "[encoded data removed]",
      "text/plain": [
       "<Figure size 800x600 with 2 Axes>"
      ]
     },
     "metadata": {},
     "output_type": "display_data"
    }
   ],
   "source": [
    "# Correlation heatmap for numerical variables\n",
    "numeric_cols = ['quantityordered', 'priceeach', 'orderlinenumber', 'sales', 'msrp', 'qtr_id', 'month_id', 'year_id']\n",
    "corr_matrix = cleaned_df[numeric_cols].corr()\n",
    "\n",
    "plt.figure(figsize=(8,6))\n",
    "sns.heatmap(corr_matrix, annot=True, fmt=\".2f\")\n",
    "plt.title(\"Correlation Matrix of Numerical Variables\")\n",
    "plt.show()"
   ]
  },
  {
   "cell_type": "markdown",
   "metadata": {},
   "source": [
    "# Yearly Sales Over Time\n",
    "Key Findings:\n",
    "\n",
    "1. The line plot shows the yearly sales from 2003 to 2005. Sales increased from 2003 to 2004, which suggests that the business was growing, possibly due to successful marketing efforts, expansion, or the introduction of new products or services.\n",
    "2. However, from 2004 to 2005, sales declined, indicating that the business may have faced certain challenges. This drop could be due to operational inefficiencies, increased competition, a decline in product or service quality, changing customer preferences, economic factors, or poor strategic decisions."
   ]
  },
  {
   "cell_type": "code",
   "execution_count": 20,
   "metadata": {},
   "outputs": [
    {
     "name": "stdout",
     "output_type": "stream",
     "text": [
      "\n",
      "Yearly Sales:\n",
      "   year_id       sales\n",
      "0     2003  3516979.54\n",
      "1     2004  4724162.60\n",
      "2     2005  1791486.71\n"
     ]
    }
   ],
   "source": [
    "yearly_sales=cleaned_df.groupby(['year_id'])['sales'].sum().reset_index()\n",
    "\n",
    "print(\"\\nYearly Sales:\")\n",
    "print(yearly_sales)"
   ]
  },
  {
   "cell_type": "code",
   "execution_count": 21,
   "metadata": {},
   "outputs": [
    {
     "data": {
      "image/png": "[encoded data removed]",
      "text/plain": [
       "<Figure size 1200x600 with 1 Axes>"
      ]
     },
     "metadata": {},
     "output_type": "display_data"
    }
   ],
   "source": [
    "# Sort by year\n",
    "yearly_sales = yearly_sales.sort_values('year_id')\n",
    "\n",
    "plt.figure(figsize=(12, 6))\n",
    "plt.plot(yearly_sales['year_id'], yearly_sales['sales'], marker='o', linestyle='-')\n",
    "plt.title('Yearly Sales Over Time')\n",
    "plt.xlabel('Year')\n",
    "plt.ylabel('Total Sales')\n",
    "plt.xticks(rotation=45)\n",
    "plt.grid(True)\n",
    "plt.show()"
   ]
  },
  {
   "cell_type": "markdown",
   "metadata": {},
   "source": [
    "# Monthly Sales Over Time\n",
    "Key Findings:\n",
    "\n",
    "1. The line plot shows monthly sales trends from 2003 to 2005. Overall, sales appear to be increasing over time, with two noticeable spikes occurring consistently between September and December each year. This recurring pattern suggests that customers tend to shop more during these months.\n",
    "2. According to the generated statistics, the highest monthly sales were recorded in November 2004, with a sales value of 1089048.01, while the lowest were in January 2003, with a value of 129753. These spikes in sales may be attributed to year-end festive seasons, such as holidays and celebrations, as well as increased spending on home refurbishment during this period.\n"
   ]
  },
  {
   "cell_type": "code",
   "execution_count": 22,
   "metadata": {},
   "outputs": [
    {
     "name": "stdout",
     "output_type": "stream",
     "text": [
      "\n",
      "Top 10 Monthly Sales:\n",
      "   year_id  month_id      sales\n",
      "0     2003         1  129753.60\n",
      "1     2003         2  140836.19\n",
      "2     2003         3  174504.90\n",
      "3     2003         4  201609.55\n",
      "4     2003         5  192673.11\n",
      "5     2003         6  168082.56\n",
      "6     2003         7  187731.88\n",
      "7     2003         8  197809.30\n",
      "8     2003         9  263973.36\n",
      "9     2003        10  568290.97\n"
     ]
    }
   ],
   "source": [
    "monthly_sales = cleaned_df.groupby(['year_id','month_id'])['sales'].sum().reset_index()\n",
    "print(\"\\nTop 10 Monthly Sales:\")\n",
    "print(monthly_sales.head(10))"
   ]
  },
  {
   "cell_type": "code",
   "execution_count": 23,
   "metadata": {},
   "outputs": [
    {
     "name": "stdout",
     "output_type": "stream",
     "text": [
      "Highest Monthly Sales:\n",
      "year_id        2004.00\n",
      "month_id         11.00\n",
      "sales       1089048.01\n",
      "Name: 22, dtype: float64\n",
      "Lowest Monthly Sales:\n",
      "year_id       2003.0\n",
      "month_id         1.0\n",
      "sales       129753.6\n",
      "Name: 0, dtype: float64\n"
     ]
    }
   ],
   "source": [
    "highest_sales = monthly_sales.loc[monthly_sales['sales'].idxmax()]\n",
    "lowest_sales = monthly_sales.loc[monthly_sales['sales'].idxmin()]\n",
    "\n",
    "print(\"Highest Monthly Sales:\")\n",
    "print(highest_sales)\n",
    "\n",
    "print(\"Lowest Monthly Sales:\")\n",
    "print(lowest_sales)"
   ]
  },
  {
   "cell_type": "code",
   "execution_count": 24,
   "metadata": {},
   "outputs": [
    {
     "name": "stdout",
     "output_type": "stream",
     "text": [
      "Minimum year_id: 2003\n",
      "Maximum year_id: 2005\n"
     ]
    }
   ],
   "source": [
    "min_value = monthly_sales['year_id'].min()\n",
    "max_value = monthly_sales['year_id'].max()\n",
    "\n",
    "print(\"Minimum year_id:\", min_value)\n",
    "print(\"Maximum year_id:\", max_value)\n"
   ]
  },
  {
   "cell_type": "code",
   "execution_count": 25,
   "metadata": {},
   "outputs": [
    {
     "data": {
      "image/png": "[encoded data removed]",
      "text/plain": [
       "<Figure size 1200x600 with 1 Axes>"
      ]
     },
     "metadata": {},
     "output_type": "display_data"
    }
   ],
   "source": [
    "# Concate year and month\n",
    "monthly_sales['year_month'] = pd.to_datetime(monthly_sales['year_id'].astype(str) + '-' + monthly_sales['month_id'].astype(str))\n",
    "\n",
    "# Sort by date\n",
    "monthly_sales = monthly_sales.sort_values('year_month')\n",
    "\n",
    "plt.figure(figsize=(12, 6))\n",
    "plt.plot(monthly_sales['year_month'], monthly_sales['sales'], marker='o', linestyle='-')\n",
    "plt.title('Monthly Sales Over Time')\n",
    "plt.xlabel('Year-Month')\n",
    "plt.ylabel('Total Sales')\n",
    "plt.xticks(rotation=45)\n",
    "plt.grid(True)\n",
    "plt.show()"
   ]
  },
  {
   "cell_type": "code",
   "execution_count": 26,
   "metadata": {},
   "outputs": [
    {
     "data": {
      "image/png": "[encoded data removed]",
      "text/plain": [
       "<Figure size 1000x600 with 1 Axes>"
      ]
     },
     "metadata": {},
     "output_type": "display_data"
    }
   ],
   "source": [
    "# Monthly Sales Trend by Product Line\n",
    "\n",
    "monthly_product_sales = cleaned_df.groupby(['productline', 'month_id']).agg({'sales':'sum'}).reset_index()\n",
    "\n",
    "plt.figure(figsize=(10,6))\n",
    "sns.lineplot(data=monthly_product_sales, x='month_id', y='sales', hue='productline', marker='o')\n",
    "plt.title('Monthly Sales Trend by Product Line')\n",
    "plt.xlabel('Month')\n",
    "plt.ylabel('Total Sales')\n",
    "plt.xticks(monthly_product_sales['month_id'].unique())\n",
    "plt.legend(title='Product Line')\n",
    "plt.show()"
   ]
  },
  {
   "cell_type": "markdown",
   "metadata": {},
   "source": [
    "# Global Sales by Country\n",
    "\n",
    "Key Findings:\n",
    "1. USA is the dominant market, with over 3.6 million USD in total sales,nearly 3 times more than the next highest country (Spain).\n",
    "\n",
    "2. European countries (Eg: Spain, France, UK) collectively represent a significant portion of total sales, showing strong demand across the region.\n",
    "\n",
    "3. Spain edges out France for the #2 spot, suggesting a particularly strong market there that might warrant further focus in marketing or distribution.\n",
    "\n",
    "4. Followed by Australia and the US indicating substantial sales from English-speaking nations outside the US.\n",
    "\n",
    "5. Besides, emerging markets like the Philippines and Ireland contribute smaller amounts (~57k–94k USD), but might present growth opportunities.\n",
    "\n"
   ]
  },
  {
   "cell_type": "code",
   "execution_count": 27,
   "metadata": {},
   "outputs": [
    {
     "data": {
      "text/html": [
       "<div>\n",
       "<style scoped>\n",
       "    .dataframe tbody tr th:only-of-type {\n",
       "        vertical-align: middle;\n",
       "    }\n",
       "\n",
       "    .dataframe tbody tr th {\n",
       "        vertical-align: top;\n",
       "    }\n",
       "\n",
       "    .dataframe thead th {\n",
       "        text-align: right;\n",
       "    }\n",
       "</style>\n",
       "<table border=\"1\" class=\"dataframe\">\n",
       "  <thead>\n",
       "    <tr style=\"text-align: right;\">\n",
       "      <th></th>\n",
       "      <th>country</th>\n",
       "      <th>sales</th>\n",
       "      <th>iso_alpha</th>\n",
       "    </tr>\n",
       "  </thead>\n",
       "  <tbody>\n",
       "    <tr>\n",
       "      <th>0</th>\n",
       "      <td>Australia</td>\n",
       "      <td>630623.10</td>\n",
       "      <td>AUS</td>\n",
       "    </tr>\n",
       "    <tr>\n",
       "      <th>1</th>\n",
       "      <td>Austria</td>\n",
       "      <td>202062.53</td>\n",
       "      <td>AUT</td>\n",
       "    </tr>\n",
       "    <tr>\n",
       "      <th>2</th>\n",
       "      <td>Belgium</td>\n",
       "      <td>108412.62</td>\n",
       "      <td>BEL</td>\n",
       "    </tr>\n",
       "    <tr>\n",
       "      <th>3</th>\n",
       "      <td>Canada</td>\n",
       "      <td>224078.56</td>\n",
       "      <td>CAN</td>\n",
       "    </tr>\n",
       "    <tr>\n",
       "      <th>4</th>\n",
       "      <td>Denmark</td>\n",
       "      <td>245637.15</td>\n",
       "      <td>DNK</td>\n",
       "    </tr>\n",
       "    <tr>\n",
       "      <th>5</th>\n",
       "      <td>Finland</td>\n",
       "      <td>329581.91</td>\n",
       "      <td>FIN</td>\n",
       "    </tr>\n",
       "    <tr>\n",
       "      <th>6</th>\n",
       "      <td>France</td>\n",
       "      <td>1110916.52</td>\n",
       "      <td>FRA</td>\n",
       "    </tr>\n",
       "    <tr>\n",
       "      <th>7</th>\n",
       "      <td>Germany</td>\n",
       "      <td>220472.09</td>\n",
       "      <td>DEU</td>\n",
       "    </tr>\n",
       "    <tr>\n",
       "      <th>8</th>\n",
       "      <td>Ireland</td>\n",
       "      <td>57756.43</td>\n",
       "      <td>IRL</td>\n",
       "    </tr>\n",
       "    <tr>\n",
       "      <th>9</th>\n",
       "      <td>Italy</td>\n",
       "      <td>374674.31</td>\n",
       "      <td>ITA</td>\n",
       "    </tr>\n",
       "    <tr>\n",
       "      <th>10</th>\n",
       "      <td>Japan</td>\n",
       "      <td>188167.81</td>\n",
       "      <td>JPN</td>\n",
       "    </tr>\n",
       "    <tr>\n",
       "      <th>11</th>\n",
       "      <td>Norway</td>\n",
       "      <td>307463.70</td>\n",
       "      <td>NOR</td>\n",
       "    </tr>\n",
       "    <tr>\n",
       "      <th>12</th>\n",
       "      <td>Philippines</td>\n",
       "      <td>94015.73</td>\n",
       "      <td>PHL</td>\n",
       "    </tr>\n",
       "    <tr>\n",
       "      <th>13</th>\n",
       "      <td>Singapore</td>\n",
       "      <td>288488.41</td>\n",
       "      <td>SGP</td>\n",
       "    </tr>\n",
       "    <tr>\n",
       "      <th>14</th>\n",
       "      <td>Spain</td>\n",
       "      <td>1215686.92</td>\n",
       "      <td>ESP</td>\n",
       "    </tr>\n",
       "    <tr>\n",
       "      <th>15</th>\n",
       "      <td>Sweden</td>\n",
       "      <td>210014.21</td>\n",
       "      <td>SWE</td>\n",
       "    </tr>\n",
       "    <tr>\n",
       "      <th>16</th>\n",
       "      <td>Switzerland</td>\n",
       "      <td>117713.56</td>\n",
       "      <td>CHE</td>\n",
       "    </tr>\n",
       "    <tr>\n",
       "      <th>17</th>\n",
       "      <td>UK</td>\n",
       "      <td>478880.46</td>\n",
       "      <td>GBR</td>\n",
       "    </tr>\n",
       "    <tr>\n",
       "      <th>18</th>\n",
       "      <td>USA</td>\n",
       "      <td>3627982.83</td>\n",
       "      <td>USA</td>\n",
       "    </tr>\n",
       "  </tbody>\n",
       "</table>\n",
       "</div>"
      ],
      "text/plain": [
       "        country       sales iso_alpha\n",
       "0     Australia   630623.10       AUS\n",
       "1       Austria   202062.53       AUT\n",
       "2       Belgium   108412.62       BEL\n",
       "3        Canada   224078.56       CAN\n",
       "4       Denmark   245637.15       DNK\n",
       "5       Finland   329581.91       FIN\n",
       "6        France  1110916.52       FRA\n",
       "7       Germany   220472.09       DEU\n",
       "8       Ireland    57756.43       IRL\n",
       "9         Italy   374674.31       ITA\n",
       "10        Japan   188167.81       JPN\n",
       "11       Norway   307463.70       NOR\n",
       "12  Philippines    94015.73       PHL\n",
       "13    Singapore   288488.41       SGP\n",
       "14        Spain  1215686.92       ESP\n",
       "15       Sweden   210014.21       SWE\n",
       "16  Switzerland   117713.56       CHE\n",
       "17           UK   478880.46       GBR\n",
       "18          USA  3627982.83       USA"
      ]
     },
     "execution_count": 27,
     "metadata": {},
     "output_type": "execute_result"
    }
   ],
   "source": [
    "country = cleaned_df.groupby(['country'])['sales'].sum().reset_index()\n",
    "# country\n",
    "short_form = ['AUS','AUT','BEL','CAN','DNK','FIN','FRA','DEU','IRL','ITA','JPN','NOR','PHL','SGP','ESP','SWE','CHE','GBR','USA']\n",
    "country['iso_alpha'] = short_form\n",
    "country"
   ]
  },
  {
   "cell_type": "code",
   "execution_count": 28,
   "metadata": {},
   "outputs": [
    {
     "data": {
      "text/html": [
       "<div>\n",
       "<style scoped>\n",
       "    .dataframe tbody tr th:only-of-type {\n",
       "        vertical-align: middle;\n",
       "    }\n",
       "\n",
       "    .dataframe tbody tr th {\n",
       "        vertical-align: top;\n",
       "    }\n",
       "\n",
       "    .dataframe thead th {\n",
       "        text-align: right;\n",
       "    }\n",
       "</style>\n",
       "<table border=\"1\" class=\"dataframe\">\n",
       "  <thead>\n",
       "    <tr style=\"text-align: right;\">\n",
       "      <th></th>\n",
       "      <th>country</th>\n",
       "      <th>sales</th>\n",
       "      <th>iso_alpha</th>\n",
       "    </tr>\n",
       "  </thead>\n",
       "  <tbody>\n",
       "    <tr>\n",
       "      <th>8</th>\n",
       "      <td>Ireland</td>\n",
       "      <td>57756.43</td>\n",
       "      <td>IRL</td>\n",
       "    </tr>\n",
       "    <tr>\n",
       "      <th>12</th>\n",
       "      <td>Philippines</td>\n",
       "      <td>94015.73</td>\n",
       "      <td>PHL</td>\n",
       "    </tr>\n",
       "    <tr>\n",
       "      <th>2</th>\n",
       "      <td>Belgium</td>\n",
       "      <td>108412.62</td>\n",
       "      <td>BEL</td>\n",
       "    </tr>\n",
       "    <tr>\n",
       "      <th>16</th>\n",
       "      <td>Switzerland</td>\n",
       "      <td>117713.56</td>\n",
       "      <td>CHE</td>\n",
       "    </tr>\n",
       "    <tr>\n",
       "      <th>10</th>\n",
       "      <td>Japan</td>\n",
       "      <td>188167.81</td>\n",
       "      <td>JPN</td>\n",
       "    </tr>\n",
       "    <tr>\n",
       "      <th>1</th>\n",
       "      <td>Austria</td>\n",
       "      <td>202062.53</td>\n",
       "      <td>AUT</td>\n",
       "    </tr>\n",
       "    <tr>\n",
       "      <th>15</th>\n",
       "      <td>Sweden</td>\n",
       "      <td>210014.21</td>\n",
       "      <td>SWE</td>\n",
       "    </tr>\n",
       "    <tr>\n",
       "      <th>7</th>\n",
       "      <td>Germany</td>\n",
       "      <td>220472.09</td>\n",
       "      <td>DEU</td>\n",
       "    </tr>\n",
       "    <tr>\n",
       "      <th>3</th>\n",
       "      <td>Canada</td>\n",
       "      <td>224078.56</td>\n",
       "      <td>CAN</td>\n",
       "    </tr>\n",
       "    <tr>\n",
       "      <th>4</th>\n",
       "      <td>Denmark</td>\n",
       "      <td>245637.15</td>\n",
       "      <td>DNK</td>\n",
       "    </tr>\n",
       "    <tr>\n",
       "      <th>13</th>\n",
       "      <td>Singapore</td>\n",
       "      <td>288488.41</td>\n",
       "      <td>SGP</td>\n",
       "    </tr>\n",
       "    <tr>\n",
       "      <th>11</th>\n",
       "      <td>Norway</td>\n",
       "      <td>307463.70</td>\n",
       "      <td>NOR</td>\n",
       "    </tr>\n",
       "    <tr>\n",
       "      <th>5</th>\n",
       "      <td>Finland</td>\n",
       "      <td>329581.91</td>\n",
       "      <td>FIN</td>\n",
       "    </tr>\n",
       "    <tr>\n",
       "      <th>9</th>\n",
       "      <td>Italy</td>\n",
       "      <td>374674.31</td>\n",
       "      <td>ITA</td>\n",
       "    </tr>\n",
       "    <tr>\n",
       "      <th>17</th>\n",
       "      <td>UK</td>\n",
       "      <td>478880.46</td>\n",
       "      <td>GBR</td>\n",
       "    </tr>\n",
       "    <tr>\n",
       "      <th>0</th>\n",
       "      <td>Australia</td>\n",
       "      <td>630623.10</td>\n",
       "      <td>AUS</td>\n",
       "    </tr>\n",
       "    <tr>\n",
       "      <th>6</th>\n",
       "      <td>France</td>\n",
       "      <td>1110916.52</td>\n",
       "      <td>FRA</td>\n",
       "    </tr>\n",
       "    <tr>\n",
       "      <th>14</th>\n",
       "      <td>Spain</td>\n",
       "      <td>1215686.92</td>\n",
       "      <td>ESP</td>\n",
       "    </tr>\n",
       "    <tr>\n",
       "      <th>18</th>\n",
       "      <td>USA</td>\n",
       "      <td>3627982.83</td>\n",
       "      <td>USA</td>\n",
       "    </tr>\n",
       "  </tbody>\n",
       "</table>\n",
       "</div>"
      ],
      "text/plain": [
       "        country       sales iso_alpha\n",
       "8       Ireland    57756.43       IRL\n",
       "12  Philippines    94015.73       PHL\n",
       "2       Belgium   108412.62       BEL\n",
       "16  Switzerland   117713.56       CHE\n",
       "10        Japan   188167.81       JPN\n",
       "1       Austria   202062.53       AUT\n",
       "15       Sweden   210014.21       SWE\n",
       "7       Germany   220472.09       DEU\n",
       "3        Canada   224078.56       CAN\n",
       "4       Denmark   245637.15       DNK\n",
       "13    Singapore   288488.41       SGP\n",
       "11       Norway   307463.70       NOR\n",
       "5       Finland   329581.91       FIN\n",
       "9         Italy   374674.31       ITA\n",
       "17           UK   478880.46       GBR\n",
       "0     Australia   630623.10       AUS\n",
       "6        France  1110916.52       FRA\n",
       "14        Spain  1215686.92       ESP\n",
       "18          USA  3627982.83       USA"
      ]
     },
     "execution_count": 28,
     "metadata": {},
     "output_type": "execute_result"
    }
   ],
   "source": [
    "# Sort by date\n",
    "country = country.sort_values('sales')\n",
    "country"
   ]
  },
  {
   "cell_type": "code",
   "execution_count": 29,
   "metadata": {},
   "outputs": [
    {
     "data": {
      "application/vnd.plotly.v1+json": {
       "config": {
        "plotlyServerURL": "https://plot.ly"
       },
       "data": [
        {
         "coloraxis": "coloraxis",
         "geo": "geo",
         "hovertemplate": "<b>%{hovertext}</b><br><br>iso_alpha=%{location}<br>sales=%{z}<extra></extra>",
         "hovertext": [
          "Ireland",
          "Philippines",
          "Belgium",
          "Switzerland",
          "Japan",
          "Austria",
          "Sweden",
          "Germany",
          "Canada",
          "Denmark",
          "Singapore",
          "Norway",
          "Finland",
          "Italy",
          "UK",
          "Australia",
          "France",
          "Spain",
          "USA"
         ],
         "locations": [
          "IRL",
          "PHL",
          "BEL",
          "CHE",
          "JPN",
          "AUT",
          "SWE",
          "DEU",
          "CAN",
          "DNK",
          "SGP",
          "NOR",
          "FIN",
          "ITA",
          "GBR",
          "AUS",
          "FRA",
          "ESP",
          "USA"
         ],
         "name": "",
         "type": "choropleth",
         "z": {
          "bdata": "KVyPwo0z7EDhehSu+/P2QLgehevJd/pAXI/C9Ri9/ECuR+F6PvgGQdejcD10qghB4XoUrvGiCUGF61G4wOkKQa5H4Xp0WgtBMzMzMyn8DUE9CtejoZsRQc3MzMwexBJBPQrXo7cdFEHXo3A9Sd4WQXE9CteBOh1BMzMzM74+I0FSuB6FhPMwQbgehevGjDJBpHA9auetS0E=",
          "dtype": "f8"
         }
        }
       ],
       "layout": {
        "coloraxis": {
         "colorbar": {
          "len": 0.75,
          "thickness": 20,
          "title": {
           "text": "Sales Amount"
          }
         },
         "colorscale": [
          [
           0,
           "rgb(247,251,255)"
          ],
          [
           0.125,
           "rgb(222,235,247)"
          ],
          [
           0.25,
           "rgb(198,219,239)"
          ],
          [
           0.375,
           "rgb(158,202,225)"
          ],
          [
           0.5,
           "rgb(107,174,214)"
          ],
          [
           0.625,
           "rgb(66,146,198)"
          ],
          [
           0.75,
           "rgb(33,113,181)"
          ],
          [
           0.875,
           "rgb(8,81,156)"
          ],
          [
           1,
           "rgb(8,48,107)"
          ]
         ]
        },
        "geo": {
         "center": {},
         "domain": {
          "x": [
           0,
           1
          ],
          "y": [
           0,
           1
          ]
         },
         "landcolor": "lightgray",
         "scope": "world",
         "showcoastlines": true,
         "showframe": false
        },
        "legend": {
         "tracegroupgap": 0
        },
        "margin": {
         "b": 0,
         "l": 0,
         "r": 0,
         "t": 40
        },
        "template": {
         "data": {
          "bar": [
           {
            "error_x": {
             "color": "#2a3f5f"
            },
            "error_y": {
             "color": "#2a3f5f"
            },
            "marker": {
             "line": {
              "color": "#E5ECF6",
              "width": 0.5
             },
             "pattern": {
              "fillmode": "overlay",
              "size": 10,
              "solidity": 0.2
             }
            },
            "type": "bar"
           }
          ],
          "barpolar": [
           {
            "marker": {
             "line": {
              "color": "#E5ECF6",
              "width": 0.5
             },
             "pattern": {
              "fillmode": "overlay",
              "size": 10,
              "solidity": 0.2
             }
            },
            "type": "barpolar"
           }
          ],
          "carpet": [
           {
            "aaxis": {
             "endlinecolor": "#2a3f5f",
             "gridcolor": "white",
             "linecolor": "white",
             "minorgridcolor": "white",
             "startlinecolor": "#2a3f5f"
            },
            "baxis": {
             "endlinecolor": "#2a3f5f",
             "gridcolor": "white",
             "linecolor": "white",
             "minorgridcolor": "white",
             "startlinecolor": "#2a3f5f"
            },
            "type": "carpet"
           }
          ],
          "choropleth": [
           {
            "colorbar": {
             "outlinewidth": 0,
             "ticks": ""
            },
            "type": "choropleth"
           }
          ],
          "contour": [
           {
            "colorbar": {
             "outlinewidth": 0,
             "ticks": ""
            },
            "colorscale": [
             [
              0,
              "#0d0887"
             ],
             [
              0.1111111111111111,
              "#46039f"
             ],
             [
              0.2222222222222222,
              "#7201a8"
             ],
             [
              0.3333333333333333,
              "#9c179e"
             ],
             [
              0.4444444444444444,
              "#bd3786"
             ],
             [
              0.5555555555555556,
              "#d8576b"
             ],
             [
              0.6666666666666666,
              "#ed7953"
             ],
             [
              0.7777777777777778,
              "#fb9f3a"
             ],
             [
              0.8888888888888888,
              "#fdca26"
             ],
             [
              1,
              "#f0f921"
             ]
            ],
            "type": "contour"
           }
          ],
          "contourcarpet": [
           {
            "colorbar": {
             "outlinewidth": 0,
             "ticks": ""
            },
            "type": "contourcarpet"
           }
          ],
          "heatmap": [
           {
            "colorbar": {
             "outlinewidth": 0,
             "ticks": ""
            },
            "colorscale": [
             [
              0,
              "#0d0887"
             ],
             [
              0.1111111111111111,
              "#46039f"
             ],
             [
              0.2222222222222222,
              "#7201a8"
             ],
             [
              0.3333333333333333,
              "#9c179e"
             ],
             [
              0.4444444444444444,
              "#bd3786"
             ],
             [
              0.5555555555555556,
              "#d8576b"
             ],
             [
              0.6666666666666666,
              "#ed7953"
             ],
             [
              0.7777777777777778,
              "#fb9f3a"
             ],
             [
              0.8888888888888888,
              "#fdca26"
             ],
             [
              1,
              "#f0f921"
             ]
            ],
            "type": "heatmap"
           }
          ],
          "histogram": [
           {
            "marker": {
             "pattern": {
              "fillmode": "overlay",
              "size": 10,
              "solidity": 0.2
             }
            },
            "type": "histogram"
           }
          ],
          "histogram2d": [
           {
            "colorbar": {
             "outlinewidth": 0,
             "ticks": ""
            },
            "colorscale": [
             [
              0,
              "#0d0887"
             ],
             [
              0.1111111111111111,
              "#46039f"
             ],
             [
              0.2222222222222222,
              "#7201a8"
             ],
             [
              0.3333333333333333,
              "#9c179e"
             ],
             [
              0.4444444444444444,
              "#bd3786"
             ],
             [
              0.5555555555555556,
              "#d8576b"
             ],
             [
              0.6666666666666666,
              "#ed7953"
             ],
             [
              0.7777777777777778,
              "#fb9f3a"
             ],
             [
              0.8888888888888888,
              "#fdca26"
             ],
             [
              1,
              "#f0f921"
             ]
            ],
            "type": "histogram2d"
           }
          ],
          "histogram2dcontour": [
           {
            "colorbar": {
             "outlinewidth": 0,
             "ticks": ""
            },
            "colorscale": [
             [
              0,
              "#0d0887"
             ],
             [
              0.1111111111111111,
              "#46039f"
             ],
             [
              0.2222222222222222,
              "#7201a8"
             ],
             [
              0.3333333333333333,
              "#9c179e"
             ],
             [
              0.4444444444444444,
              "#bd3786"
             ],
             [
              0.5555555555555556,
              "#d8576b"
             ],
             [
              0.6666666666666666,
              "#ed7953"
             ],
             [
              0.7777777777777778,
              "#fb9f3a"
             ],
             [
              0.8888888888888888,
              "#fdca26"
             ],
             [
              1,
              "#f0f921"
             ]
            ],
            "type": "histogram2dcontour"
           }
          ],
          "mesh3d": [
           {
            "colorbar": {
             "outlinewidth": 0,
             "ticks": ""
            },
            "type": "mesh3d"
           }
          ],
          "parcoords": [
           {
            "line": {
             "colorbar": {
              "outlinewidth": 0,
              "ticks": ""
             }
            },
            "type": "parcoords"
           }
          ],
          "pie": [
           {
            "automargin": true,
            "type": "pie"
           }
          ],
          "scatter": [
           {
            "fillpattern": {
             "fillmode": "overlay",
             "size": 10,
             "solidity": 0.2
            },
            "type": "scatter"
           }
          ],
          "scatter3d": [
           {
            "line": {
             "colorbar": {
              "outlinewidth": 0,
              "ticks": ""
             }
            },
            "marker": {
             "colorbar": {
              "outlinewidth": 0,
              "ticks": ""
             }
            },
            "type": "scatter3d"
           }
          ],
          "scattercarpet": [
           {
            "marker": {
             "colorbar": {
              "outlinewidth": 0,
              "ticks": ""
             }
            },
            "type": "scattercarpet"
           }
          ],
          "scattergeo": [
           {
            "marker": {
             "colorbar": {
              "outlinewidth": 0,
              "ticks": ""
             }
            },
            "type": "scattergeo"
           }
          ],
          "scattergl": [
           {
            "marker": {
             "colorbar": {
              "outlinewidth": 0,
              "ticks": ""
             }
            },
            "type": "scattergl"
           }
          ],
          "scattermap": [
           {
            "marker": {
             "colorbar": {
              "outlinewidth": 0,
              "ticks": ""
             }
            },
            "type": "scattermap"
           }
          ],
          "scattermapbox": [
           {
            "marker": {
             "colorbar": {
              "outlinewidth": 0,
              "ticks": ""
             }
            },
            "type": "scattermapbox"
           }
          ],
          "scatterpolar": [
           {
            "marker": {
             "colorbar": {
              "outlinewidth": 0,
              "ticks": ""
             }
            },
            "type": "scatterpolar"
           }
          ],
          "scatterpolargl": [
           {
            "marker": {
             "colorbar": {
              "outlinewidth": 0,
              "ticks": ""
             }
            },
            "type": "scatterpolargl"
           }
          ],
          "scatterternary": [
           {
            "marker": {
             "colorbar": {
              "outlinewidth": 0,
              "ticks": ""
             }
            },
            "type": "scatterternary"
           }
          ],
          "surface": [
           {
            "colorbar": {
             "outlinewidth": 0,
             "ticks": ""
            },
            "colorscale": [
             [
              0,
              "#0d0887"
             ],
             [
              0.1111111111111111,
              "#46039f"
             ],
             [
              0.2222222222222222,
              "#7201a8"
             ],
             [
              0.3333333333333333,
              "#9c179e"
             ],
             [
              0.4444444444444444,
              "#bd3786"
             ],
             [
              0.5555555555555556,
              "#d8576b"
             ],
             [
              0.6666666666666666,
              "#ed7953"
             ],
             [
              0.7777777777777778,
              "#fb9f3a"
             ],
             [
              0.8888888888888888,
              "#fdca26"
             ],
             [
              1,
              "#f0f921"
             ]
            ],
            "type": "surface"
           }
          ],
          "table": [
           {
            "cells": {
             "fill": {
              "color": "#EBF0F8"
             },
             "line": {
              "color": "white"
             }
            },
            "header": {
             "fill": {
              "color": "#C8D4E3"
             },
             "line": {
              "color": "white"
             }
            },
            "type": "table"
           }
          ]
         },
         "layout": {
          "annotationdefaults": {
           "arrowcolor": "#2a3f5f",
           "arrowhead": 0,
           "arrowwidth": 1
          },
          "autotypenumbers": "strict",
          "coloraxis": {
           "colorbar": {
            "outlinewidth": 0,
            "ticks": ""
           }
          },
          "colorscale": {
           "diverging": [
            [
             0,
             "#8e0152"
            ],
            [
             0.1,
             "#c51b7d"
            ],
            [
             0.2,
             "#de77ae"
            ],
            [
             0.3,
             "#f1b6da"
            ],
            [
             0.4,
             "#fde0ef"
            ],
            [
             0.5,
             "#f7f7f7"
            ],
            [
             0.6,
             "#e6f5d0"
            ],
            [
             0.7,
             "#b8e186"
            ],
            [
             0.8,
             "#7fbc41"
            ],
            [
             0.9,
             "#4d9221"
            ],
            [
             1,
             "#276419"
            ]
           ],
           "sequential": [
            [
             0,
             "#0d0887"
            ],
            [
             0.1111111111111111,
             "#46039f"
            ],
            [
             0.2222222222222222,
             "#7201a8"
            ],
            [
             0.3333333333333333,
             "#9c179e"
            ],
            [
             0.4444444444444444,
             "#bd3786"
            ],
            [
             0.5555555555555556,
             "#d8576b"
            ],
            [
             0.6666666666666666,
             "#ed7953"
            ],
            [
             0.7777777777777778,
             "#fb9f3a"
            ],
            [
             0.8888888888888888,
             "#fdca26"
            ],
            [
             1,
             "#f0f921"
            ]
           ],
           "sequentialminus": [
            [
             0,
             "#0d0887"
            ],
            [
             0.1111111111111111,
             "#46039f"
            ],
            [
             0.2222222222222222,
             "#7201a8"
            ],
            [
             0.3333333333333333,
             "#9c179e"
            ],
            [
             0.4444444444444444,
             "#bd3786"
            ],
            [
             0.5555555555555556,
             "#d8576b"
            ],
            [
             0.6666666666666666,
             "#ed7953"
            ],
            [
             0.7777777777777778,
             "#fb9f3a"
            ],
            [
             0.8888888888888888,
             "#fdca26"
            ],
            [
             1,
             "#f0f921"
            ]
           ]
          },
          "colorway": [
           "#636efa",
           "#EF553B",
           "#00cc96",
           "#ab63fa",
           "#FFA15A",
           "#19d3f3",
           "#FF6692",
           "#B6E880",
           "#FF97FF",
           "#FECB52"
          ],
          "font": {
           "color": "#2a3f5f"
          },
          "geo": {
           "bgcolor": "white",
           "lakecolor": "white",
           "landcolor": "#E5ECF6",
           "showlakes": true,
           "showland": true,
           "subunitcolor": "white"
          },
          "hoverlabel": {
           "align": "left"
          },
          "hovermode": "closest",
          "mapbox": {
           "style": "light"
          },
          "paper_bgcolor": "white",
          "plot_bgcolor": "#E5ECF6",
          "polar": {
           "angularaxis": {
            "gridcolor": "white",
            "linecolor": "white",
            "ticks": ""
           },
           "bgcolor": "#E5ECF6",
           "radialaxis": {
            "gridcolor": "white",
            "linecolor": "white",
            "ticks": ""
           }
          },
          "scene": {
           "xaxis": {
            "backgroundcolor": "#E5ECF6",
            "gridcolor": "white",
            "gridwidth": 2,
            "linecolor": "white",
            "showbackground": true,
            "ticks": "",
            "zerolinecolor": "white"
           },
           "yaxis": {
            "backgroundcolor": "#E5ECF6",
            "gridcolor": "white",
            "gridwidth": 2,
            "linecolor": "white",
            "showbackground": true,
            "ticks": "",
            "zerolinecolor": "white"
           },
           "zaxis": {
            "backgroundcolor": "#E5ECF6",
            "gridcolor": "white",
            "gridwidth": 2,
            "linecolor": "white",
            "showbackground": true,
            "ticks": "",
            "zerolinecolor": "white"
           }
          },
          "shapedefaults": {
           "line": {
            "color": "#2a3f5f"
           }
          },
          "ternary": {
           "aaxis": {
            "gridcolor": "white",
            "linecolor": "white",
            "ticks": ""
           },
           "baxis": {
            "gridcolor": "white",
            "linecolor": "white",
            "ticks": ""
           },
           "bgcolor": "#E5ECF6",
           "caxis": {
            "gridcolor": "white",
            "linecolor": "white",
            "ticks": ""
           }
          },
          "title": {
           "x": 0.05
          },
          "xaxis": {
           "automargin": true,
           "gridcolor": "white",
           "linecolor": "white",
           "ticks": "",
           "title": {
            "standoff": 15
           },
           "zerolinecolor": "white",
           "zerolinewidth": 2
          },
          "yaxis": {
           "automargin": true,
           "gridcolor": "white",
           "linecolor": "white",
           "ticks": "",
           "title": {
            "standoff": 15
           },
           "zerolinecolor": "white",
           "zerolinewidth": 2
          }
         }
        },
        "title": {
         "font": {
          "size": 20
         },
         "text": "Global Sales by Country",
         "x": 0.5,
         "xanchor": "center"
        }
       }
      }
     },
     "metadata": {},
     "output_type": "display_data"
    }
   ],
   "source": [
    "fig = px.choropleth(\n",
    "    country,\n",
    "    locations='iso_alpha',\n",
    "    color='sales',\n",
    "    scope='world',\n",
    "    hover_name='country',\n",
    "    color_continuous_scale='Blues',\n",
    ")\n",
    "\n",
    "fig.update_layout(\n",
    "    title={\n",
    "        'text': \"Global Sales by Country\",\n",
    "        'x': 0.5,\n",
    "        'xanchor': 'center',\n",
    "        'font': {'size': 20}\n",
    "    },\n",
    "    margin={\"r\":0,\"t\":40,\"l\":0,\"b\":0},\n",
    "    coloraxis_colorbar={\n",
    "        'title': 'Sales Amount',\n",
    "        'thickness': 20,\n",
    "        'len': 0.75\n",
    "    },\n",
    "    geo=dict(\n",
    "        showframe=False,\n",
    "        showcoastlines=True,\n",
    "        landcolor='lightgray'\n",
    "    )\n",
    ")\n",
    "\n",
    "fig.show()"
   ]
  },
  {
   "cell_type": "markdown",
   "metadata": {},
   "source": [
    "# Drilling down into Sales by country and product line\n",
    "Key Findings:\n",
    "\n",
    "1. The pivot table reveals that the USA is the dominant market across all product lines, with particularly high sales in Classic Cars, Motorcycles, and\n",
    "Vintage Cars.\n",
    "2. Classic Cars emerge as the most popular product overall, with strong performance not just in the USA but also in Spain, France, and Australia.\n",
    "3. Motorcycles also see robust sales in the USA, France, and Spain, and several countries like Belgium and Denmark report no sales in this category.\n",
    "4. Planes and Trains show more varied interest, with high numbers in countries like Italy and Spain respectively, but little to no traction in others.\n",
    "5. Vintage Cars have broad appeal, especially in the USA and Spain, while Trucks and Buses do well in select markets such as the USA and Singapore.\n",
    "6. European markets like France, Germany, and Italy display balanced demand across categories, while smaller or less represented countries such as Switzerland and the Philippines suggest potential for expansion."
   ]
  },
  {
   "cell_type": "code",
   "execution_count": 30,
   "metadata": {},
   "outputs": [],
   "source": [
    "pivot = pd.pivot_table(cleaned_df,\n",
    "               values='sales',\n",
    "               index='country',\n",
    "               columns='productline',\n",
    "               aggfunc='sum',\n",
    "               fill_value=0)"
   ]
  },
  {
   "cell_type": "code",
   "execution_count": 31,
   "metadata": {},
   "outputs": [
    {
     "data": {
      "text/html": [
       "<div>\n",
       "<style scoped>\n",
       "    .dataframe tbody tr th:only-of-type {\n",
       "        vertical-align: middle;\n",
       "    }\n",
       "\n",
       "    .dataframe tbody tr th {\n",
       "        vertical-align: top;\n",
       "    }\n",
       "\n",
       "    .dataframe thead th {\n",
       "        text-align: right;\n",
       "    }\n",
       "</style>\n",
       "<table border=\"1\" class=\"dataframe\">\n",
       "  <thead>\n",
       "    <tr style=\"text-align: right;\">\n",
       "      <th>productline</th>\n",
       "      <th>Classic Cars</th>\n",
       "      <th>Motorcycles</th>\n",
       "      <th>Planes</th>\n",
       "      <th>Ships</th>\n",
       "      <th>Trains</th>\n",
       "      <th>Trucks and Buses</th>\n",
       "      <th>Vintage Cars</th>\n",
       "    </tr>\n",
       "    <tr>\n",
       "      <th>country</th>\n",
       "      <th></th>\n",
       "      <th></th>\n",
       "      <th></th>\n",
       "      <th></th>\n",
       "      <th></th>\n",
       "      <th></th>\n",
       "      <th></th>\n",
       "    </tr>\n",
       "  </thead>\n",
       "  <tbody>\n",
       "    <tr>\n",
       "      <th>Australia</th>\n",
       "      <td>193085.54</td>\n",
       "      <td>89968.76</td>\n",
       "      <td>74853.87</td>\n",
       "      <td>4159.76</td>\n",
       "      <td>1681.35</td>\n",
       "      <td>77318.50</td>\n",
       "      <td>189555.32</td>\n",
       "    </tr>\n",
       "    <tr>\n",
       "      <th>Austria</th>\n",
       "      <td>101459.47</td>\n",
       "      <td>26047.66</td>\n",
       "      <td>17860.44</td>\n",
       "      <td>9024.73</td>\n",
       "      <td>0.00</td>\n",
       "      <td>20472.75</td>\n",
       "      <td>27197.48</td>\n",
       "    </tr>\n",
       "    <tr>\n",
       "      <th>Belgium</th>\n",
       "      <td>20136.96</td>\n",
       "      <td>0.00</td>\n",
       "      <td>5624.79</td>\n",
       "      <td>31708.01</td>\n",
       "      <td>9017.26</td>\n",
       "      <td>0.00</td>\n",
       "      <td>41925.60</td>\n",
       "    </tr>\n",
       "    <tr>\n",
       "      <th>Canada</th>\n",
       "      <td>61623.22</td>\n",
       "      <td>4177.49</td>\n",
       "      <td>25510.07</td>\n",
       "      <td>40309.01</td>\n",
       "      <td>0.00</td>\n",
       "      <td>51945.98</td>\n",
       "      <td>40512.79</td>\n",
       "    </tr>\n",
       "    <tr>\n",
       "      <th>Denmark</th>\n",
       "      <td>157182.48</td>\n",
       "      <td>0.00</td>\n",
       "      <td>7586.45</td>\n",
       "      <td>38697.26</td>\n",
       "      <td>11476.33</td>\n",
       "      <td>9588.82</td>\n",
       "      <td>21105.81</td>\n",
       "    </tr>\n",
       "    <tr>\n",
       "      <th>Finland</th>\n",
       "      <td>153552.24</td>\n",
       "      <td>47866.72</td>\n",
       "      <td>34375.13</td>\n",
       "      <td>29808.44</td>\n",
       "      <td>5117.05</td>\n",
       "      <td>40479.33</td>\n",
       "      <td>18383.00</td>\n",
       "    </tr>\n",
       "    <tr>\n",
       "      <th>France</th>\n",
       "      <td>388951.20</td>\n",
       "      <td>226390.31</td>\n",
       "      <td>108155.51</td>\n",
       "      <td>66486.67</td>\n",
       "      <td>27340.80</td>\n",
       "      <td>116982.22</td>\n",
       "      <td>176609.81</td>\n",
       "    </tr>\n",
       "    <tr>\n",
       "      <th>Germany</th>\n",
       "      <td>148315.00</td>\n",
       "      <td>7497.50</td>\n",
       "      <td>23001.26</td>\n",
       "      <td>5501.00</td>\n",
       "      <td>5043.42</td>\n",
       "      <td>10178.00</td>\n",
       "      <td>20935.91</td>\n",
       "    </tr>\n",
       "    <tr>\n",
       "      <th>Ireland</th>\n",
       "      <td>31688.82</td>\n",
       "      <td>4953.20</td>\n",
       "      <td>11784.36</td>\n",
       "      <td>0.00</td>\n",
       "      <td>3112.60</td>\n",
       "      <td>3983.05</td>\n",
       "      <td>2234.40</td>\n",
       "    </tr>\n",
       "    <tr>\n",
       "      <th>Italy</th>\n",
       "      <td>128576.65</td>\n",
       "      <td>7567.80</td>\n",
       "      <td>98185.65</td>\n",
       "      <td>17703.54</td>\n",
       "      <td>6274.96</td>\n",
       "      <td>5914.97</td>\n",
       "      <td>110450.74</td>\n",
       "    </tr>\n",
       "    <tr>\n",
       "      <th>Japan</th>\n",
       "      <td>47271.49</td>\n",
       "      <td>26536.41</td>\n",
       "      <td>49176.96</td>\n",
       "      <td>18860.02</td>\n",
       "      <td>3523.67</td>\n",
       "      <td>13349.44</td>\n",
       "      <td>29449.82</td>\n",
       "    </tr>\n",
       "    <tr>\n",
       "      <th>Norway</th>\n",
       "      <td>134787.37</td>\n",
       "      <td>51768.63</td>\n",
       "      <td>29500.70</td>\n",
       "      <td>0.00</td>\n",
       "      <td>11310.36</td>\n",
       "      <td>37075.64</td>\n",
       "      <td>43021.00</td>\n",
       "    </tr>\n",
       "    <tr>\n",
       "      <th>Philippines</th>\n",
       "      <td>53112.09</td>\n",
       "      <td>18061.68</td>\n",
       "      <td>20906.87</td>\n",
       "      <td>0.00</td>\n",
       "      <td>0.00</td>\n",
       "      <td>0.00</td>\n",
       "      <td>1935.09</td>\n",
       "    </tr>\n",
       "    <tr>\n",
       "      <th>Singapore</th>\n",
       "      <td>132890.44</td>\n",
       "      <td>4175.60</td>\n",
       "      <td>0.00</td>\n",
       "      <td>14155.52</td>\n",
       "      <td>13278.71</td>\n",
       "      <td>89027.68</td>\n",
       "      <td>34960.46</td>\n",
       "    </tr>\n",
       "    <tr>\n",
       "      <th>Spain</th>\n",
       "      <td>476165.15</td>\n",
       "      <td>74634.82</td>\n",
       "      <td>89985.51</td>\n",
       "      <td>124459.97</td>\n",
       "      <td>43370.18</td>\n",
       "      <td>177556.78</td>\n",
       "      <td>229514.51</td>\n",
       "    </tr>\n",
       "    <tr>\n",
       "      <th>Sweden</th>\n",
       "      <td>69088.06</td>\n",
       "      <td>15567.25</td>\n",
       "      <td>8899.60</td>\n",
       "      <td>30915.89</td>\n",
       "      <td>3807.68</td>\n",
       "      <td>47931.27</td>\n",
       "      <td>33804.46</td>\n",
       "    </tr>\n",
       "    <tr>\n",
       "      <th>Switzerland</th>\n",
       "      <td>117713.56</td>\n",
       "      <td>0.00</td>\n",
       "      <td>0.00</td>\n",
       "      <td>0.00</td>\n",
       "      <td>0.00</td>\n",
       "      <td>0.00</td>\n",
       "      <td>0.00</td>\n",
       "    </tr>\n",
       "    <tr>\n",
       "      <th>UK</th>\n",
       "      <td>159377.70</td>\n",
       "      <td>40802.81</td>\n",
       "      <td>41163.51</td>\n",
       "      <td>72959.17</td>\n",
       "      <td>12635.54</td>\n",
       "      <td>28142.99</td>\n",
       "      <td>123798.74</td>\n",
       "    </tr>\n",
       "    <tr>\n",
       "      <th>USA</th>\n",
       "      <td>1344638.22</td>\n",
       "      <td>520371.70</td>\n",
       "      <td>328432.89</td>\n",
       "      <td>209688.14</td>\n",
       "      <td>69253.56</td>\n",
       "      <td>397842.42</td>\n",
       "      <td>757755.90</td>\n",
       "    </tr>\n",
       "  </tbody>\n",
       "</table>\n",
       "</div>"
      ],
      "text/plain": [
       "productline  Classic Cars  Motorcycles     Planes      Ships    Trains  \\\n",
       "country                                                                  \n",
       "Australia       193085.54     89968.76   74853.87    4159.76   1681.35   \n",
       "Austria         101459.47     26047.66   17860.44    9024.73      0.00   \n",
       "Belgium          20136.96         0.00    5624.79   31708.01   9017.26   \n",
       "Canada           61623.22      4177.49   25510.07   40309.01      0.00   \n",
       "Denmark         157182.48         0.00    7586.45   38697.26  11476.33   \n",
       "Finland         153552.24     47866.72   34375.13   29808.44   5117.05   \n",
       "France          388951.20    226390.31  108155.51   66486.67  27340.80   \n",
       "Germany         148315.00      7497.50   23001.26    5501.00   5043.42   \n",
       "Ireland          31688.82      4953.20   11784.36       0.00   3112.60   \n",
       "Italy           128576.65      7567.80   98185.65   17703.54   6274.96   \n",
       "Japan            47271.49     26536.41   49176.96   18860.02   3523.67   \n",
       "Norway          134787.37     51768.63   29500.70       0.00  11310.36   \n",
       "Philippines      53112.09     18061.68   20906.87       0.00      0.00   \n",
       "Singapore       132890.44      4175.60       0.00   14155.52  13278.71   \n",
       "Spain           476165.15     74634.82   89985.51  124459.97  43370.18   \n",
       "Sweden           69088.06     15567.25    8899.60   30915.89   3807.68   \n",
       "Switzerland     117713.56         0.00       0.00       0.00      0.00   \n",
       "UK              159377.70     40802.81   41163.51   72959.17  12635.54   \n",
       "USA            1344638.22    520371.70  328432.89  209688.14  69253.56   \n",
       "\n",
       "productline  Trucks and Buses  Vintage Cars  \n",
       "country                                      \n",
       "Australia            77318.50     189555.32  \n",
       "Austria              20472.75      27197.48  \n",
       "Belgium                  0.00      41925.60  \n",
       "Canada               51945.98      40512.79  \n",
       "Denmark               9588.82      21105.81  \n",
       "Finland              40479.33      18383.00  \n",
       "France              116982.22     176609.81  \n",
       "Germany              10178.00      20935.91  \n",
       "Ireland               3983.05       2234.40  \n",
       "Italy                 5914.97     110450.74  \n",
       "Japan                13349.44      29449.82  \n",
       "Norway               37075.64      43021.00  \n",
       "Philippines              0.00       1935.09  \n",
       "Singapore            89027.68      34960.46  \n",
       "Spain               177556.78     229514.51  \n",
       "Sweden               47931.27      33804.46  \n",
       "Switzerland              0.00          0.00  \n",
       "UK                   28142.99     123798.74  \n",
       "USA                 397842.42     757755.90  "
      ]
     },
     "execution_count": 31,
     "metadata": {},
     "output_type": "execute_result"
    }
   ],
   "source": [
    "pivot"
   ]
  },
  {
   "cell_type": "markdown",
   "metadata": {},
   "source": [
    "## Putting the above stats into visualization"
   ]
  },
  {
   "cell_type": "code",
   "execution_count": 32,
   "metadata": {},
   "outputs": [
    {
     "data": {
      "image/png": "[encoded data removed]",
      "text/plain": [
       "<Figure size 1200x600 with 1 Axes>"
      ]
     },
     "metadata": {},
     "output_type": "display_data"
    }
   ],
   "source": [
    "pivot.plot(kind='bar', figsize=(12, 6))\n",
    "plt.title('Sales by Product Line and Country')\n",
    "plt.ylabel('Sales')\n",
    "plt.xlabel('Country')\n",
    "plt.xticks(rotation=45)\n",
    "plt.legend(title='Product Line')\n",
    "plt.tight_layout()\n",
    "plt.show()"
   ]
  },
  {
   "cell_type": "code",
   "execution_count": 33,
   "metadata": {},
   "outputs": [
    {
     "data": {
      "image/png": "[encoded data removed]",
      "text/plain": [
       "<Figure size 1200x600 with 1 Axes>"
      ]
     },
     "metadata": {},
     "output_type": "display_data"
    }
   ],
   "source": [
    "pivot.plot(kind='bar', stacked=True, figsize=(12, 6))\n",
    "plt.title('Stacked Sales by Product Line and Country')\n",
    "plt.ylabel('Sales')\n",
    "plt.xlabel('Country')\n",
    "plt.xticks(rotation=45)\n",
    "plt.legend(title='Product Line')\n",
    "plt.tight_layout()\n",
    "plt.show()\n"
   ]
  },
  {
   "cell_type": "markdown",
   "metadata": {},
   "source": [
    "# Drilling down to USA\n",
    "Key Findings:\n",
    "\n",
    "The sales data reveals that Classic Cars are the most dominant product line in USA, generating approximately 1.34 million, which is nearly double the sales of the next category, Vintage Cars. Together, these two categories account for over 60% of total sales, indicating a strong customer preference or potentially higher pricing strategies.\n",
    "\n",
    "Motorcycles, Trucks and Buses, and Planes has a moderate sales contributions that suggest room for growth through targeted marketing or promotional strategies.\n",
    "\n",
    "In contrast, Ships and especially Trains contributing less than 10% of total sales combined, signaling either niche market demand or a need for reevaluation."
   ]
  },
  {
   "cell_type": "code",
   "execution_count": 34,
   "metadata": {},
   "outputs": [],
   "source": [
    "usa_df = cleaned_df[cleaned_df['country'] == 'USA']"
   ]
  },
  {
   "cell_type": "code",
   "execution_count": 35,
   "metadata": {},
   "outputs": [
    {
     "data": {
      "text/html": [
       "<div>\n",
       "<style scoped>\n",
       "    .dataframe tbody tr th:only-of-type {\n",
       "        vertical-align: middle;\n",
       "    }\n",
       "\n",
       "    .dataframe tbody tr th {\n",
       "        vertical-align: top;\n",
       "    }\n",
       "\n",
       "    .dataframe thead th {\n",
       "        text-align: right;\n",
       "    }\n",
       "</style>\n",
       "<table border=\"1\" class=\"dataframe\">\n",
       "  <thead>\n",
       "    <tr style=\"text-align: right;\">\n",
       "      <th></th>\n",
       "      <th>ordernumber</th>\n",
       "      <th>quantityordered</th>\n",
       "      <th>priceeach</th>\n",
       "      <th>orderlinenumber</th>\n",
       "      <th>sales</th>\n",
       "      <th>orderdate</th>\n",
       "      <th>status</th>\n",
       "      <th>qtr_id</th>\n",
       "      <th>month_id</th>\n",
       "      <th>year_id</th>\n",
       "      <th>productline</th>\n",
       "      <th>msrp</th>\n",
       "      <th>productcode</th>\n",
       "      <th>customername</th>\n",
       "      <th>city</th>\n",
       "      <th>state</th>\n",
       "      <th>postalcode</th>\n",
       "      <th>country</th>\n",
       "      <th>dealsize</th>\n",
       "    </tr>\n",
       "  </thead>\n",
       "  <tbody>\n",
       "    <tr>\n",
       "      <th>0</th>\n",
       "      <td>10107</td>\n",
       "      <td>30</td>\n",
       "      <td>95.70</td>\n",
       "      <td>2</td>\n",
       "      <td>2871.00</td>\n",
       "      <td>2003-02-24</td>\n",
       "      <td>SHIPPED</td>\n",
       "      <td>1</td>\n",
       "      <td>2</td>\n",
       "      <td>2003</td>\n",
       "      <td>Motorcycles</td>\n",
       "      <td>95</td>\n",
       "      <td>S10_1678</td>\n",
       "      <td>Land of Toys Inc.</td>\n",
       "      <td>NYC</td>\n",
       "      <td>NY</td>\n",
       "      <td>10022</td>\n",
       "      <td>USA</td>\n",
       "      <td>Small</td>\n",
       "    </tr>\n",
       "    <tr>\n",
       "      <th>3</th>\n",
       "      <td>10145</td>\n",
       "      <td>45</td>\n",
       "      <td>83.26</td>\n",
       "      <td>6</td>\n",
       "      <td>3746.70</td>\n",
       "      <td>2003-08-25</td>\n",
       "      <td>SHIPPED</td>\n",
       "      <td>3</td>\n",
       "      <td>8</td>\n",
       "      <td>2003</td>\n",
       "      <td>Motorcycles</td>\n",
       "      <td>95</td>\n",
       "      <td>S10_1678</td>\n",
       "      <td>Toys4GrownUps.com</td>\n",
       "      <td>Pasadena</td>\n",
       "      <td>CA</td>\n",
       "      <td>90003</td>\n",
       "      <td>USA</td>\n",
       "      <td>Medium</td>\n",
       "    </tr>\n",
       "    <tr>\n",
       "      <th>4</th>\n",
       "      <td>10159</td>\n",
       "      <td>49</td>\n",
       "      <td>100.00</td>\n",
       "      <td>14</td>\n",
       "      <td>5205.27</td>\n",
       "      <td>2003-10-10</td>\n",
       "      <td>SHIPPED</td>\n",
       "      <td>4</td>\n",
       "      <td>10</td>\n",
       "      <td>2003</td>\n",
       "      <td>Motorcycles</td>\n",
       "      <td>95</td>\n",
       "      <td>S10_1678</td>\n",
       "      <td>Corporate Gift Ideas Co.</td>\n",
       "      <td>San Francisco</td>\n",
       "      <td>CA</td>\n",
       "      <td>NA</td>\n",
       "      <td>USA</td>\n",
       "      <td>Medium</td>\n",
       "    </tr>\n",
       "    <tr>\n",
       "      <th>5</th>\n",
       "      <td>10168</td>\n",
       "      <td>36</td>\n",
       "      <td>96.66</td>\n",
       "      <td>1</td>\n",
       "      <td>3479.76</td>\n",
       "      <td>2003-10-28</td>\n",
       "      <td>SHIPPED</td>\n",
       "      <td>4</td>\n",
       "      <td>10</td>\n",
       "      <td>2003</td>\n",
       "      <td>Motorcycles</td>\n",
       "      <td>95</td>\n",
       "      <td>S10_1678</td>\n",
       "      <td>Technics Stores Inc.</td>\n",
       "      <td>Burlingame</td>\n",
       "      <td>CA</td>\n",
       "      <td>94217</td>\n",
       "      <td>USA</td>\n",
       "      <td>Medium</td>\n",
       "    </tr>\n",
       "    <tr>\n",
       "      <th>8</th>\n",
       "      <td>10201</td>\n",
       "      <td>22</td>\n",
       "      <td>98.57</td>\n",
       "      <td>2</td>\n",
       "      <td>2168.54</td>\n",
       "      <td>2003-12-01</td>\n",
       "      <td>SHIPPED</td>\n",
       "      <td>4</td>\n",
       "      <td>12</td>\n",
       "      <td>2003</td>\n",
       "      <td>Motorcycles</td>\n",
       "      <td>95</td>\n",
       "      <td>S10_1678</td>\n",
       "      <td>Mini Wheels Co.</td>\n",
       "      <td>San Francisco</td>\n",
       "      <td>CA</td>\n",
       "      <td>NA</td>\n",
       "      <td>USA</td>\n",
       "      <td>Small</td>\n",
       "    </tr>\n",
       "  </tbody>\n",
       "</table>\n",
       "</div>"
      ],
      "text/plain": [
       "   ordernumber  quantityordered  priceeach  orderlinenumber    sales  \\\n",
       "0        10107               30      95.70                2  2871.00   \n",
       "3        10145               45      83.26                6  3746.70   \n",
       "4        10159               49     100.00               14  5205.27   \n",
       "5        10168               36      96.66                1  3479.76   \n",
       "8        10201               22      98.57                2  2168.54   \n",
       "\n",
       "   orderdate   status  qtr_id  month_id  year_id  productline  msrp  \\\n",
       "0 2003-02-24  SHIPPED       1         2     2003  Motorcycles    95   \n",
       "3 2003-08-25  SHIPPED       3         8     2003  Motorcycles    95   \n",
       "4 2003-10-10  SHIPPED       4        10     2003  Motorcycles    95   \n",
       "5 2003-10-28  SHIPPED       4        10     2003  Motorcycles    95   \n",
       "8 2003-12-01  SHIPPED       4        12     2003  Motorcycles    95   \n",
       "\n",
       "  productcode              customername           city state postalcode  \\\n",
       "0    S10_1678         Land of Toys Inc.            NYC    NY      10022   \n",
       "3    S10_1678         Toys4GrownUps.com       Pasadena    CA      90003   \n",
       "4    S10_1678  Corporate Gift Ideas Co.  San Francisco    CA         NA   \n",
       "5    S10_1678      Technics Stores Inc.     Burlingame    CA      94217   \n",
       "8    S10_1678           Mini Wheels Co.  San Francisco    CA         NA   \n",
       "\n",
       "  country dealsize  \n",
       "0     USA    Small  \n",
       "3     USA   Medium  \n",
       "4     USA   Medium  \n",
       "5     USA   Medium  \n",
       "8     USA    Small  "
      ]
     },
     "execution_count": 35,
     "metadata": {},
     "output_type": "execute_result"
    }
   ],
   "source": [
    "usa_df.head(5)"
   ]
  },
  {
   "cell_type": "code",
   "execution_count": 36,
   "metadata": {},
   "outputs": [
    {
     "data": {
      "image/png": "[encoded data removed]",
      "text/plain": [
       "<Figure size 600x400 with 1 Axes>"
      ]
     },
     "metadata": {},
     "output_type": "display_data"
    }
   ],
   "source": [
    "# Count of Orders by Status\n",
    "productline_counts = usa_df['productline'].value_counts()\n",
    "\n",
    "plt.figure(figsize=(6,4))\n",
    "sns.barplot(x=productline_counts.index, y=productline_counts.values)\n",
    "plt.title('Count of Orders by Product Line')\n",
    "plt.xlabel('Product Line')\n",
    "plt.ylabel('Order Count')\n",
    "plt.xticks(rotation=45)\n",
    "plt.show()"
   ]
  },
  {
   "cell_type": "code",
   "execution_count": 37,
   "metadata": {},
   "outputs": [
    {
     "name": "stdout",
     "output_type": "stream",
     "text": [
      "productline\n",
      "Classic Cars        1344638.22\n",
      "Vintage Cars         757755.90\n",
      "Motorcycles          520371.70\n",
      "Trucks and Buses     397842.42\n",
      "Planes               328432.89\n",
      "Ships                209688.14\n",
      "Trains                69253.56\n",
      "Name: sales, dtype: float64\n"
     ]
    }
   ],
   "source": [
    "sales_by_productline = usa_df.groupby('productline')['sales'].sum().sort_values(ascending=False)\n",
    "print(sales_by_productline)"
   ]
  },
  {
   "cell_type": "code",
   "execution_count": 38,
   "metadata": {},
   "outputs": [
    {
     "data": {
      "image/png": "[encoded data removed]",
      "text/plain": [
       "<Figure size 800x500 with 1 Axes>"
      ]
     },
     "metadata": {},
     "output_type": "display_data"
    }
   ],
   "source": [
    "plt.figure(figsize=(8, 5))\n",
    "sns.barplot(x=sales_by_productline.index, y=sales_by_productline.values)\n",
    "\n",
    "plt.title('Total Sales by Product Line')\n",
    "plt.xlabel('Product Line')\n",
    "plt.ylabel('Total Sales')\n",
    "plt.xticks(rotation=45)\n",
    "plt.tight_layout()\n",
    "plt.show()"
   ]
  }
 ],
 "metadata": {
  "colab": {
   "authorship_tag": "ABX9TyMDAxs3176gWNkUuAnK3BZC",
   "mount_file_id": "1EfKy8ecV3n16Dov-uJGEThS5I4T7J-6h",
   "provenance": [
    {
     "file_id": "1EfKy8ecV3n16Dov-uJGEThS5I4T7J-6h",
     "timestamp": 1747664979193
    }
   ]
  },
  "kernelspec": {
   "display_name": "venv",
   "language": "python",
   "name": "python3"
  },
  "language_info": {
   "codemirror_mode": {
    "name": "ipython",
    "version": 3
   },
   "file_extension": ".py",
   "mimetype": "text/x-python",
   "name": "python",
   "nbconvert_exporter": "python",
   "pygments_lexer": "ipython3",
   "version": "3.11.4"
  }
 },
 "nbformat": 4,
 "nbformat_minor": 0
}
