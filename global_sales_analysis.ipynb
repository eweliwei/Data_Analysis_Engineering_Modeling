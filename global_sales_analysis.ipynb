{
 "cells": [
  {
   "cell_type": "markdown",
   "metadata": {
    "id": "VVQPg2hqZYzw"
   },
   "source": [
    "# Import Libraries"
   ]
  },
  {
   "cell_type": "code",
   "execution_count": 1,
   "metadata": {},
   "outputs": [
    {
     "name": "stdout",
     "output_type": "stream",
     "text": [
      "Requirement already satisfied: idna==3.4 in c:\\users\\eweli\\documents\\data_analysis_engineering_modeling\\venv\\lib\\site-packages (from -r requirements.txt (line 1)) (3.4)\n",
      "Requirement already satisfied: ipykernel==6.29.5 in c:\\users\\eweli\\documents\\data_analysis_engineering_modeling\\venv\\lib\\site-packages (from -r requirements.txt (line 2)) (6.29.5)\n",
      "Requirement already satisfied: ipython==9.2.0 in c:\\users\\eweli\\documents\\data_analysis_engineering_modeling\\venv\\lib\\site-packages (from -r requirements.txt (line 3)) (9.2.0)\n",
      "Requirement already satisfied: ipython_pygments_lexers==1.1.1 in c:\\users\\eweli\\documents\\data_analysis_engineering_modeling\\venv\\lib\\site-packages (from -r requirements.txt (line 4)) (1.1.1)\n",
      "Requirement already satisfied: jedi==0.19.2 in c:\\users\\eweli\\documents\\data_analysis_engineering_modeling\\venv\\lib\\site-packages (from -r requirements.txt (line 5)) (0.19.2)\n",
      "Requirement already satisfied: Jinja2==3.1.2 in c:\\users\\eweli\\documents\\data_analysis_engineering_modeling\\venv\\lib\\site-packages (from -r requirements.txt (line 6)) (3.1.2)\n",
      "Requirement already satisfied: jupyter_client==8.6.3 in c:\\users\\eweli\\documents\\data_analysis_engineering_modeling\\venv\\lib\\site-packages (from -r requirements.txt (line 7)) (8.6.3)\n",
      "Requirement already satisfied: jupyter_core==5.7.2 in c:\\users\\eweli\\documents\\data_analysis_engineering_modeling\\venv\\lib\\site-packages (from -r requirements.txt (line 8)) (5.7.2)\n",
      "Requirement already satisfied: kiwisolver==1.4.8 in c:\\users\\eweli\\documents\\data_analysis_engineering_modeling\\venv\\lib\\site-packages (from -r requirements.txt (line 9)) (1.4.8)\n",
      "Requirement already satisfied: MarkupSafe==2.1.3 in c:\\users\\eweli\\documents\\data_analysis_engineering_modeling\\venv\\lib\\site-packages (from -r requirements.txt (line 10)) (2.1.3)\n",
      "Requirement already satisfied: matplotlib==3.10.3 in c:\\users\\eweli\\documents\\data_analysis_engineering_modeling\\venv\\lib\\site-packages (from -r requirements.txt (line 11)) (3.10.3)\n",
      "Requirement already satisfied: matplotlib-inline==0.1.7 in c:\\users\\eweli\\documents\\data_analysis_engineering_modeling\\venv\\lib\\site-packages (from -r requirements.txt (line 12)) (0.1.7)\n",
      "Requirement already satisfied: numpy==1.25.0 in c:\\users\\eweli\\documents\\data_analysis_engineering_modeling\\venv\\lib\\site-packages (from -r requirements.txt (line 13)) (1.25.0)\n",
      "Requirement already satisfied: packaging==23.1 in c:\\users\\eweli\\documents\\data_analysis_engineering_modeling\\venv\\lib\\site-packages (from -r requirements.txt (line 14)) (23.1)\n",
      "Requirement already satisfied: pandas==2.2.3 in c:\\users\\eweli\\documents\\data_analysis_engineering_modeling\\venv\\lib\\site-packages (from -r requirements.txt (line 15)) (2.2.3)\n",
      "Requirement already satisfied: regex==2023.6.3 in c:\\users\\eweli\\documents\\data_analysis_engineering_modeling\\venv\\lib\\site-packages (from -r requirements.txt (line 16)) (2023.6.3)\n",
      "Requirement already satisfied: requests==2.32.3 in c:\\users\\eweli\\documents\\data_analysis_engineering_modeling\\venv\\lib\\site-packages (from -r requirements.txt (line 17)) (2.32.3)\n",
      "Requirement already satisfied: seaborn==0.13.2 in c:\\users\\eweli\\documents\\data_analysis_engineering_modeling\\venv\\lib\\site-packages (from -r requirements.txt (line 18)) (0.13.2)\n",
      "Requirement already satisfied: comm>=0.1.1 in c:\\users\\eweli\\documents\\data_analysis_engineering_modeling\\venv\\lib\\site-packages (from ipykernel==6.29.5->-r requirements.txt (line 2)) (0.2.2)\n",
      "Requirement already satisfied: debugpy>=1.6.5 in c:\\users\\eweli\\documents\\data_analysis_engineering_modeling\\venv\\lib\\site-packages (from ipykernel==6.29.5->-r requirements.txt (line 2)) (1.8.14)\n",
      "Requirement already satisfied: nest-asyncio in c:\\users\\eweli\\documents\\data_analysis_engineering_modeling\\venv\\lib\\site-packages (from ipykernel==6.29.5->-r requirements.txt (line 2)) (1.6.0)\n",
      "Requirement already satisfied: psutil in c:\\users\\eweli\\documents\\data_analysis_engineering_modeling\\venv\\lib\\site-packages (from ipykernel==6.29.5->-r requirements.txt (line 2)) (7.0.0)\n",
      "Requirement already satisfied: pyzmq>=24 in c:\\users\\eweli\\documents\\data_analysis_engineering_modeling\\venv\\lib\\site-packages (from ipykernel==6.29.5->-r requirements.txt (line 2)) (26.4.0)\n",
      "Requirement already satisfied: tornado>=6.1 in c:\\users\\eweli\\documents\\data_analysis_engineering_modeling\\venv\\lib\\site-packages (from ipykernel==6.29.5->-r requirements.txt (line 2)) (6.5)\n",
      "Requirement already satisfied: traitlets>=5.4.0 in c:\\users\\eweli\\documents\\data_analysis_engineering_modeling\\venv\\lib\\site-packages (from ipykernel==6.29.5->-r requirements.txt (line 2)) (5.14.3)\n",
      "Requirement already satisfied: colorama in c:\\users\\eweli\\documents\\data_analysis_engineering_modeling\\venv\\lib\\site-packages (from ipython==9.2.0->-r requirements.txt (line 3)) (0.4.6)\n",
      "Requirement already satisfied: decorator in c:\\users\\eweli\\documents\\data_analysis_engineering_modeling\\venv\\lib\\site-packages (from ipython==9.2.0->-r requirements.txt (line 3)) (5.2.1)\n",
      "Requirement already satisfied: prompt_toolkit<3.1.0,>=3.0.41 in c:\\users\\eweli\\documents\\data_analysis_engineering_modeling\\venv\\lib\\site-packages (from ipython==9.2.0->-r requirements.txt (line 3)) (3.0.51)\n",
      "Requirement already satisfied: pygments>=2.4.0 in c:\\users\\eweli\\documents\\data_analysis_engineering_modeling\\venv\\lib\\site-packages (from ipython==9.2.0->-r requirements.txt (line 3)) (2.19.1)\n",
      "Requirement already satisfied: stack_data in c:\\users\\eweli\\documents\\data_analysis_engineering_modeling\\venv\\lib\\site-packages (from ipython==9.2.0->-r requirements.txt (line 3)) (0.6.3)\n",
      "Requirement already satisfied: typing_extensions>=4.6 in c:\\users\\eweli\\documents\\data_analysis_engineering_modeling\\venv\\lib\\site-packages (from ipython==9.2.0->-r requirements.txt (line 3)) (4.13.2)\n",
      "Requirement already satisfied: parso<0.9.0,>=0.8.4 in c:\\users\\eweli\\documents\\data_analysis_engineering_modeling\\venv\\lib\\site-packages (from jedi==0.19.2->-r requirements.txt (line 5)) (0.8.4)\n",
      "Requirement already satisfied: python-dateutil>=2.8.2 in c:\\users\\eweli\\documents\\data_analysis_engineering_modeling\\venv\\lib\\site-packages (from jupyter_client==8.6.3->-r requirements.txt (line 7)) (2.9.0.post0)\n",
      "Requirement already satisfied: platformdirs>=2.5 in c:\\users\\eweli\\documents\\data_analysis_engineering_modeling\\venv\\lib\\site-packages (from jupyter_core==5.7.2->-r requirements.txt (line 8)) (4.3.8)\n",
      "Requirement already satisfied: pywin32>=300 in c:\\users\\eweli\\documents\\data_analysis_engineering_modeling\\venv\\lib\\site-packages (from jupyter_core==5.7.2->-r requirements.txt (line 8)) (310)\n",
      "Requirement already satisfied: contourpy>=1.0.1 in c:\\users\\eweli\\documents\\data_analysis_engineering_modeling\\venv\\lib\\site-packages (from matplotlib==3.10.3->-r requirements.txt (line 11)) (1.3.2)\n",
      "Requirement already satisfied: cycler>=0.10 in c:\\users\\eweli\\documents\\data_analysis_engineering_modeling\\venv\\lib\\site-packages (from matplotlib==3.10.3->-r requirements.txt (line 11)) (0.12.1)\n",
      "Requirement already satisfied: fonttools>=4.22.0 in c:\\users\\eweli\\documents\\data_analysis_engineering_modeling\\venv\\lib\\site-packages (from matplotlib==3.10.3->-r requirements.txt (line 11)) (4.58.0)\n",
      "Requirement already satisfied: pillow>=8 in c:\\users\\eweli\\documents\\data_analysis_engineering_modeling\\venv\\lib\\site-packages (from matplotlib==3.10.3->-r requirements.txt (line 11)) (11.2.1)\n",
      "Requirement already satisfied: pyparsing>=2.3.1 in c:\\users\\eweli\\documents\\data_analysis_engineering_modeling\\venv\\lib\\site-packages (from matplotlib==3.10.3->-r requirements.txt (line 11)) (3.2.3)\n",
      "Requirement already satisfied: pytz>=2020.1 in c:\\users\\eweli\\documents\\data_analysis_engineering_modeling\\venv\\lib\\site-packages (from pandas==2.2.3->-r requirements.txt (line 15)) (2025.2)\n",
      "Requirement already satisfied: tzdata>=2022.7 in c:\\users\\eweli\\documents\\data_analysis_engineering_modeling\\venv\\lib\\site-packages (from pandas==2.2.3->-r requirements.txt (line 15)) (2025.2)\n",
      "Requirement already satisfied: charset-normalizer<4,>=2 in c:\\users\\eweli\\documents\\data_analysis_engineering_modeling\\venv\\lib\\site-packages (from requests==2.32.3->-r requirements.txt (line 17)) (3.4.2)\n",
      "Requirement already satisfied: urllib3<3,>=1.21.1 in c:\\users\\eweli\\documents\\data_analysis_engineering_modeling\\venv\\lib\\site-packages (from requests==2.32.3->-r requirements.txt (line 17)) (2.4.0)\n",
      "Requirement already satisfied: certifi>=2017.4.17 in c:\\users\\eweli\\documents\\data_analysis_engineering_modeling\\venv\\lib\\site-packages (from requests==2.32.3->-r requirements.txt (line 17)) (2025.4.26)\n",
      "Requirement already satisfied: wcwidth in c:\\users\\eweli\\documents\\data_analysis_engineering_modeling\\venv\\lib\\site-packages (from prompt_toolkit<3.1.0,>=3.0.41->ipython==9.2.0->-r requirements.txt (line 3)) (0.2.13)\n",
      "Requirement already satisfied: six>=1.5 in c:\\users\\eweli\\documents\\data_analysis_engineering_modeling\\venv\\lib\\site-packages (from python-dateutil>=2.8.2->jupyter_client==8.6.3->-r requirements.txt (line 7)) (1.17.0)\n",
      "Requirement already satisfied: executing>=1.2.0 in c:\\users\\eweli\\documents\\data_analysis_engineering_modeling\\venv\\lib\\site-packages (from stack_data->ipython==9.2.0->-r requirements.txt (line 3)) (2.2.0)\n",
      "Requirement already satisfied: asttokens>=2.1.0 in c:\\users\\eweli\\documents\\data_analysis_engineering_modeling\\venv\\lib\\site-packages (from stack_data->ipython==9.2.0->-r requirements.txt (line 3)) (3.0.0)\n",
      "Requirement already satisfied: pure-eval in c:\\users\\eweli\\documents\\data_analysis_engineering_modeling\\venv\\lib\\site-packages (from stack_data->ipython==9.2.0->-r requirements.txt (line 3)) (0.2.3)\n",
      "Note: you may need to restart the kernel to use updated packages.\n"
     ]
    },
    {
     "name": "stderr",
     "output_type": "stream",
     "text": [
      "\n",
      "[notice] A new release of pip is available: 23.1.2 -> 25.1.1\n",
      "[notice] To update, run: python.exe -m pip install --upgrade pip\n"
     ]
    }
   ],
   "source": [
    "pip install -r requirements.txt"
   ]
  },
  {
   "cell_type": "code",
   "execution_count": 1,
   "metadata": {},
   "outputs": [],
   "source": [
    "import sys\n",
    "import os\n",
    "\n",
    "sys.path.append(os.path.abspath('.'))"
   ]
  },
  {
   "cell_type": "code",
   "execution_count": 2,
   "metadata": {},
   "outputs": [],
   "source": [
    "from data_preprocessing.data_extractor import DataExtractor\n",
    "from data_preprocessing.data_transformation import DataTransformer\n",
    "import logging\n",
    "import requests\n",
    "import sys\n",
    "import pandas as pd\n",
    "import numpy as np\n",
    "import matplotlib.pyplot as plt\n",
    "import seaborn as sns"
   ]
  },
  {
   "cell_type": "markdown",
   "metadata": {
    "id": "l6Hx_fflwGBU"
   },
   "source": [
    "# Data Extraction"
   ]
  },
  {
   "cell_type": "code",
   "execution_count": 3,
   "metadata": {
    "colab": {
     "base_uri": "https://localhost:8080/"
    },
    "executionInfo": {
     "elapsed": 177,
     "status": "ok",
     "timestamp": 1747753545844,
     "user": {
      "displayName": "Ewe Li Wei",
      "userId": "18295529536115247948"
     },
     "user_tz": -480
    },
    "id": "M27S47vMTec4",
    "outputId": "21c07a2e-85bf-4bc6-f339-2dad9599a4d9"
   },
   "outputs": [
    {
     "name": "stdout",
     "output_type": "stream",
     "text": [
      "2025-05-22 00:53:23,027 - Fetching data from GitHub: https://raw.githubusercontent.com/eweliwei/Data_Analysis_Engineering_Modeling/main/global_sales.csv\n"
     ]
    }
   ],
   "source": [
    "extractor = DataExtractor()\n",
    "global_sales_df = extractor.fetch_github_data(github_url=\"https://github.com/eweliwei/Data_Analysis_Engineering_Modeling/blob/main/global_sales.csv\")"
   ]
  },
  {
   "cell_type": "code",
   "execution_count": 4,
   "metadata": {
    "colab": {
     "base_uri": "https://localhost:8080/"
    },
    "executionInfo": {
     "elapsed": 87,
     "status": "ok",
     "timestamp": 1747758149713,
     "user": {
      "displayName": "Ewe Li Wei",
      "userId": "18295529536115247948"
     },
     "user_tz": -480
    },
    "id": "X6oyGkjhS8LI",
    "outputId": "a00361d8-e03e-4c0e-ec85-7629a0864517"
   },
   "outputs": [
    {
     "name": "stdout",
     "output_type": "stream",
     "text": [
      "   ORDERNUMBER  QUANTITYORDERED  PRICEEACH  ORDERLINENUMBER    SALES  \\\n",
      "0        10107               30      95.70                2  2871.00   \n",
      "1        10121               34      81.35                5  2765.90   \n",
      "2        10134               41      94.74                2  3884.34   \n",
      "3        10145               45      83.26                6  3746.70   \n",
      "4        10159               49     100.00               14  5205.27   \n",
      "\n",
      "         ORDERDATE   STATUS  QTR_ID  MONTH_ID  YEAR_ID  PRODUCTLINE  MSRP  \\\n",
      "0   2/24/2003 0:00  Shipped       1         2     2003  Motorcycles    95   \n",
      "1    5/7/2003 0:00  Shipped       2         5     2003  Motorcycles    95   \n",
      "2    7/1/2003 0:00  Shipped       3         7     2003  Motorcycles    95   \n",
      "3   8/25/2003 0:00  Shipped       3         8     2003  Motorcycles    95   \n",
      "4  10/10/2003 0:00  Shipped       4        10     2003  Motorcycles    95   \n",
      "\n",
      "  PRODUCTCODE              CUSTOMERNAME           CITY STATE POSTALCODE  \\\n",
      "0    S10_1678         Land of Toys Inc.            NYC    NY      10022   \n",
      "1    S10_1678        Reims Collectables          Reims   NaN      51100   \n",
      "2    S10_1678           Lyon Souveniers          Paris   NaN      75508   \n",
      "3    S10_1678         Toys4GrownUps.com       Pasadena    CA      90003   \n",
      "4    S10_1678  Corporate Gift Ideas Co.  San Francisco    CA        NaN   \n",
      "\n",
      "  COUNTRY DEALSIZE  \n",
      "0     USA    Small  \n",
      "1  France    Small  \n",
      "2  France   Medium  \n",
      "3     USA   Medium  \n",
      "4     USA   Medium  \n"
     ]
    }
   ],
   "source": [
    "# View sample records\n",
    "print(global_sales_df.head())"
   ]
  },
  {
   "cell_type": "markdown",
   "metadata": {
    "id": "8C84rdnRwLos"
   },
   "source": [
    "# Sample Data & Data Exploration"
   ]
  },
  {
   "cell_type": "code",
   "execution_count": 5,
   "metadata": {
    "colab": {
     "base_uri": "https://localhost:8080/"
    },
    "executionInfo": {
     "elapsed": 12,
     "status": "ok",
     "timestamp": 1747758150362,
     "user": {
      "displayName": "Ewe Li Wei",
      "userId": "18295529536115247948"
     },
     "user_tz": -480
    },
    "id": "BPLQgpcfwjsM",
    "outputId": "5186a663-7328-42f9-bf2c-c27c4db5f69d"
   },
   "outputs": [
    {
     "data": {
      "text/plain": [
       "(2823, 19)"
      ]
     },
     "execution_count": 5,
     "metadata": {},
     "output_type": "execute_result"
    }
   ],
   "source": [
    "# View total rows and columns\n",
    "global_sales_df.shape"
   ]
  },
  {
   "cell_type": "code",
   "execution_count": 6,
   "metadata": {
    "colab": {
     "base_uri": "https://localhost:8080/",
     "height": 312
    },
    "executionInfo": {
     "elapsed": 215,
     "status": "ok",
     "timestamp": 1747758150651,
     "user": {
      "displayName": "Ewe Li Wei",
      "userId": "18295529536115247948"
     },
     "user_tz": -480
    },
    "id": "0oriHgygw8b8",
    "outputId": "bd25c6d6-1e93-4d12-9249-3fc0af83be3e"
   },
   "outputs": [
    {
     "data": {
      "text/html": [
       "<div>\n",
       "<style scoped>\n",
       "    .dataframe tbody tr th:only-of-type {\n",
       "        vertical-align: middle;\n",
       "    }\n",
       "\n",
       "    .dataframe tbody tr th {\n",
       "        vertical-align: top;\n",
       "    }\n",
       "\n",
       "    .dataframe thead th {\n",
       "        text-align: right;\n",
       "    }\n",
       "</style>\n",
       "<table border=\"1\" class=\"dataframe\">\n",
       "  <thead>\n",
       "    <tr style=\"text-align: right;\">\n",
       "      <th></th>\n",
       "      <th>ORDERNUMBER</th>\n",
       "      <th>QUANTITYORDERED</th>\n",
       "      <th>PRICEEACH</th>\n",
       "      <th>ORDERLINENUMBER</th>\n",
       "      <th>SALES</th>\n",
       "      <th>ORDERDATE</th>\n",
       "      <th>STATUS</th>\n",
       "      <th>QTR_ID</th>\n",
       "      <th>MONTH_ID</th>\n",
       "      <th>YEAR_ID</th>\n",
       "      <th>PRODUCTLINE</th>\n",
       "      <th>MSRP</th>\n",
       "      <th>PRODUCTCODE</th>\n",
       "      <th>CUSTOMERNAME</th>\n",
       "      <th>CITY</th>\n",
       "      <th>STATE</th>\n",
       "      <th>POSTALCODE</th>\n",
       "      <th>COUNTRY</th>\n",
       "      <th>DEALSIZE</th>\n",
       "    </tr>\n",
       "  </thead>\n",
       "  <tbody>\n",
       "    <tr>\n",
       "      <th>0</th>\n",
       "      <td>10107</td>\n",
       "      <td>30</td>\n",
       "      <td>95.70</td>\n",
       "      <td>2</td>\n",
       "      <td>2871.00</td>\n",
       "      <td>2/24/2003 0:00</td>\n",
       "      <td>Shipped</td>\n",
       "      <td>1</td>\n",
       "      <td>2</td>\n",
       "      <td>2003</td>\n",
       "      <td>Motorcycles</td>\n",
       "      <td>95</td>\n",
       "      <td>S10_1678</td>\n",
       "      <td>Land of Toys Inc.</td>\n",
       "      <td>NYC</td>\n",
       "      <td>NY</td>\n",
       "      <td>10022</td>\n",
       "      <td>USA</td>\n",
       "      <td>Small</td>\n",
       "    </tr>\n",
       "    <tr>\n",
       "      <th>1</th>\n",
       "      <td>10121</td>\n",
       "      <td>34</td>\n",
       "      <td>81.35</td>\n",
       "      <td>5</td>\n",
       "      <td>2765.90</td>\n",
       "      <td>5/7/2003 0:00</td>\n",
       "      <td>Shipped</td>\n",
       "      <td>2</td>\n",
       "      <td>5</td>\n",
       "      <td>2003</td>\n",
       "      <td>Motorcycles</td>\n",
       "      <td>95</td>\n",
       "      <td>S10_1678</td>\n",
       "      <td>Reims Collectables</td>\n",
       "      <td>Reims</td>\n",
       "      <td>NaN</td>\n",
       "      <td>51100</td>\n",
       "      <td>France</td>\n",
       "      <td>Small</td>\n",
       "    </tr>\n",
       "    <tr>\n",
       "      <th>2</th>\n",
       "      <td>10134</td>\n",
       "      <td>41</td>\n",
       "      <td>94.74</td>\n",
       "      <td>2</td>\n",
       "      <td>3884.34</td>\n",
       "      <td>7/1/2003 0:00</td>\n",
       "      <td>Shipped</td>\n",
       "      <td>3</td>\n",
       "      <td>7</td>\n",
       "      <td>2003</td>\n",
       "      <td>Motorcycles</td>\n",
       "      <td>95</td>\n",
       "      <td>S10_1678</td>\n",
       "      <td>Lyon Souveniers</td>\n",
       "      <td>Paris</td>\n",
       "      <td>NaN</td>\n",
       "      <td>75508</td>\n",
       "      <td>France</td>\n",
       "      <td>Medium</td>\n",
       "    </tr>\n",
       "    <tr>\n",
       "      <th>3</th>\n",
       "      <td>10145</td>\n",
       "      <td>45</td>\n",
       "      <td>83.26</td>\n",
       "      <td>6</td>\n",
       "      <td>3746.70</td>\n",
       "      <td>8/25/2003 0:00</td>\n",
       "      <td>Shipped</td>\n",
       "      <td>3</td>\n",
       "      <td>8</td>\n",
       "      <td>2003</td>\n",
       "      <td>Motorcycles</td>\n",
       "      <td>95</td>\n",
       "      <td>S10_1678</td>\n",
       "      <td>Toys4GrownUps.com</td>\n",
       "      <td>Pasadena</td>\n",
       "      <td>CA</td>\n",
       "      <td>90003</td>\n",
       "      <td>USA</td>\n",
       "      <td>Medium</td>\n",
       "    </tr>\n",
       "    <tr>\n",
       "      <th>4</th>\n",
       "      <td>10159</td>\n",
       "      <td>49</td>\n",
       "      <td>100.00</td>\n",
       "      <td>14</td>\n",
       "      <td>5205.27</td>\n",
       "      <td>10/10/2003 0:00</td>\n",
       "      <td>Shipped</td>\n",
       "      <td>4</td>\n",
       "      <td>10</td>\n",
       "      <td>2003</td>\n",
       "      <td>Motorcycles</td>\n",
       "      <td>95</td>\n",
       "      <td>S10_1678</td>\n",
       "      <td>Corporate Gift Ideas Co.</td>\n",
       "      <td>San Francisco</td>\n",
       "      <td>CA</td>\n",
       "      <td>NaN</td>\n",
       "      <td>USA</td>\n",
       "      <td>Medium</td>\n",
       "    </tr>\n",
       "  </tbody>\n",
       "</table>\n",
       "</div>"
      ],
      "text/plain": [
       "   ORDERNUMBER  QUANTITYORDERED  PRICEEACH  ORDERLINENUMBER    SALES  \\\n",
       "0        10107               30      95.70                2  2871.00   \n",
       "1        10121               34      81.35                5  2765.90   \n",
       "2        10134               41      94.74                2  3884.34   \n",
       "3        10145               45      83.26                6  3746.70   \n",
       "4        10159               49     100.00               14  5205.27   \n",
       "\n",
       "         ORDERDATE   STATUS  QTR_ID  MONTH_ID  YEAR_ID  PRODUCTLINE  MSRP  \\\n",
       "0   2/24/2003 0:00  Shipped       1         2     2003  Motorcycles    95   \n",
       "1    5/7/2003 0:00  Shipped       2         5     2003  Motorcycles    95   \n",
       "2    7/1/2003 0:00  Shipped       3         7     2003  Motorcycles    95   \n",
       "3   8/25/2003 0:00  Shipped       3         8     2003  Motorcycles    95   \n",
       "4  10/10/2003 0:00  Shipped       4        10     2003  Motorcycles    95   \n",
       "\n",
       "  PRODUCTCODE              CUSTOMERNAME           CITY STATE POSTALCODE  \\\n",
       "0    S10_1678         Land of Toys Inc.            NYC    NY      10022   \n",
       "1    S10_1678        Reims Collectables          Reims   NaN      51100   \n",
       "2    S10_1678           Lyon Souveniers          Paris   NaN      75508   \n",
       "3    S10_1678         Toys4GrownUps.com       Pasadena    CA      90003   \n",
       "4    S10_1678  Corporate Gift Ideas Co.  San Francisco    CA        NaN   \n",
       "\n",
       "  COUNTRY DEALSIZE  \n",
       "0     USA    Small  \n",
       "1  France    Small  \n",
       "2  France   Medium  \n",
       "3     USA   Medium  \n",
       "4     USA   Medium  "
      ]
     },
     "execution_count": 6,
     "metadata": {},
     "output_type": "execute_result"
    }
   ],
   "source": [
    "# View sample data\n",
    "global_sales_df.head(5)"
   ]
  },
  {
   "cell_type": "code",
   "execution_count": 7,
   "metadata": {
    "colab": {
     "base_uri": "https://localhost:8080/",
     "height": 679
    },
    "executionInfo": {
     "elapsed": 14,
     "status": "ok",
     "timestamp": 1747758150672,
     "user": {
      "displayName": "Ewe Li Wei",
      "userId": "18295529536115247948"
     },
     "user_tz": -480
    },
    "id": "g5Z5TBV6w8Z3",
    "outputId": "c8e5fac9-9f08-4290-87f1-ee6ff8f6d2a9"
   },
   "outputs": [
    {
     "data": {
      "text/plain": [
       "ORDERNUMBER          int64\n",
       "QUANTITYORDERED      int64\n",
       "PRICEEACH          float64\n",
       "ORDERLINENUMBER      int64\n",
       "SALES              float64\n",
       "ORDERDATE           object\n",
       "STATUS              object\n",
       "QTR_ID               int64\n",
       "MONTH_ID             int64\n",
       "YEAR_ID              int64\n",
       "PRODUCTLINE         object\n",
       "MSRP                 int64\n",
       "PRODUCTCODE         object\n",
       "CUSTOMERNAME        object\n",
       "CITY                object\n",
       "STATE               object\n",
       "POSTALCODE          object\n",
       "COUNTRY             object\n",
       "DEALSIZE            object\n",
       "dtype: object"
      ]
     },
     "execution_count": 7,
     "metadata": {},
     "output_type": "execute_result"
    }
   ],
   "source": [
    "# View data types\n",
    "global_sales_df.dtypes"
   ]
  },
  {
   "cell_type": "code",
   "execution_count": 8,
   "metadata": {
    "colab": {
     "base_uri": "https://localhost:8080/"
    },
    "executionInfo": {
     "elapsed": 10,
     "status": "ok",
     "timestamp": 1747758150683,
     "user": {
      "displayName": "Ewe Li Wei",
      "userId": "18295529536115247948"
     },
     "user_tz": -480
    },
    "id": "g6_GbBQfzTgb",
    "outputId": "6497d9b1-8ba3-413b-ad16-4d2b62386497"
   },
   "outputs": [
    {
     "name": "stdout",
     "output_type": "stream",
     "text": [
      "<class 'pandas.core.frame.DataFrame'>\n",
      "RangeIndex: 2823 entries, 0 to 2822\n",
      "Data columns (total 19 columns):\n",
      " #   Column           Non-Null Count  Dtype  \n",
      "---  ------           --------------  -----  \n",
      " 0   ORDERNUMBER      2823 non-null   int64  \n",
      " 1   QUANTITYORDERED  2823 non-null   int64  \n",
      " 2   PRICEEACH        2823 non-null   float64\n",
      " 3   ORDERLINENUMBER  2823 non-null   int64  \n",
      " 4   SALES            2823 non-null   float64\n",
      " 5   ORDERDATE        2823 non-null   object \n",
      " 6   STATUS           2823 non-null   object \n",
      " 7   QTR_ID           2823 non-null   int64  \n",
      " 8   MONTH_ID         2823 non-null   int64  \n",
      " 9   YEAR_ID          2823 non-null   int64  \n",
      " 10  PRODUCTLINE      2823 non-null   object \n",
      " 11  MSRP             2823 non-null   int64  \n",
      " 12  PRODUCTCODE      2823 non-null   object \n",
      " 13  CUSTOMERNAME     2823 non-null   object \n",
      " 14  CITY             2823 non-null   object \n",
      " 15  STATE            1337 non-null   object \n",
      " 16  POSTALCODE       2747 non-null   object \n",
      " 17  COUNTRY          2823 non-null   object \n",
      " 18  DEALSIZE         2823 non-null   object \n",
      "dtypes: float64(2), int64(7), object(10)\n",
      "memory usage: 419.2+ KB\n"
     ]
    }
   ],
   "source": [
    "global_sales_df.info()"
   ]
  },
  {
   "cell_type": "code",
   "execution_count": 9,
   "metadata": {
    "colab": {
     "base_uri": "https://localhost:8080/",
     "height": 300
    },
    "executionInfo": {
     "elapsed": 191,
     "status": "ok",
     "timestamp": 1747758150875,
     "user": {
      "displayName": "Ewe Li Wei",
      "userId": "18295529536115247948"
     },
     "user_tz": -480
    },
    "id": "-SC1DbPkzbOO",
    "outputId": "6846866f-b09c-4860-9add-6155fa75b265"
   },
   "outputs": [
    {
     "data": {
      "text/html": [
       "<div>\n",
       "<style scoped>\n",
       "    .dataframe tbody tr th:only-of-type {\n",
       "        vertical-align: middle;\n",
       "    }\n",
       "\n",
       "    .dataframe tbody tr th {\n",
       "        vertical-align: top;\n",
       "    }\n",
       "\n",
       "    .dataframe thead th {\n",
       "        text-align: right;\n",
       "    }\n",
       "</style>\n",
       "<table border=\"1\" class=\"dataframe\">\n",
       "  <thead>\n",
       "    <tr style=\"text-align: right;\">\n",
       "      <th></th>\n",
       "      <th>ORDERNUMBER</th>\n",
       "      <th>QUANTITYORDERED</th>\n",
       "      <th>PRICEEACH</th>\n",
       "      <th>ORDERLINENUMBER</th>\n",
       "      <th>SALES</th>\n",
       "      <th>QTR_ID</th>\n",
       "      <th>MONTH_ID</th>\n",
       "      <th>YEAR_ID</th>\n",
       "      <th>MSRP</th>\n",
       "    </tr>\n",
       "  </thead>\n",
       "  <tbody>\n",
       "    <tr>\n",
       "      <th>count</th>\n",
       "      <td>2823.000000</td>\n",
       "      <td>2823.000000</td>\n",
       "      <td>2823.000000</td>\n",
       "      <td>2823.000000</td>\n",
       "      <td>2823.000000</td>\n",
       "      <td>2823.000000</td>\n",
       "      <td>2823.000000</td>\n",
       "      <td>2823.00000</td>\n",
       "      <td>2823.000000</td>\n",
       "    </tr>\n",
       "    <tr>\n",
       "      <th>mean</th>\n",
       "      <td>10258.725115</td>\n",
       "      <td>35.092809</td>\n",
       "      <td>83.658544</td>\n",
       "      <td>6.466171</td>\n",
       "      <td>3553.889072</td>\n",
       "      <td>2.717676</td>\n",
       "      <td>7.092455</td>\n",
       "      <td>2003.81509</td>\n",
       "      <td>100.715551</td>\n",
       "    </tr>\n",
       "    <tr>\n",
       "      <th>std</th>\n",
       "      <td>92.085478</td>\n",
       "      <td>9.741443</td>\n",
       "      <td>20.174277</td>\n",
       "      <td>4.225841</td>\n",
       "      <td>1841.865106</td>\n",
       "      <td>1.203878</td>\n",
       "      <td>3.656633</td>\n",
       "      <td>0.69967</td>\n",
       "      <td>40.187912</td>\n",
       "    </tr>\n",
       "    <tr>\n",
       "      <th>min</th>\n",
       "      <td>10100.000000</td>\n",
       "      <td>6.000000</td>\n",
       "      <td>26.880000</td>\n",
       "      <td>1.000000</td>\n",
       "      <td>482.130000</td>\n",
       "      <td>1.000000</td>\n",
       "      <td>1.000000</td>\n",
       "      <td>2003.00000</td>\n",
       "      <td>33.000000</td>\n",
       "    </tr>\n",
       "    <tr>\n",
       "      <th>25%</th>\n",
       "      <td>10180.000000</td>\n",
       "      <td>27.000000</td>\n",
       "      <td>68.860000</td>\n",
       "      <td>3.000000</td>\n",
       "      <td>2203.430000</td>\n",
       "      <td>2.000000</td>\n",
       "      <td>4.000000</td>\n",
       "      <td>2003.00000</td>\n",
       "      <td>68.000000</td>\n",
       "    </tr>\n",
       "    <tr>\n",
       "      <th>50%</th>\n",
       "      <td>10262.000000</td>\n",
       "      <td>35.000000</td>\n",
       "      <td>95.700000</td>\n",
       "      <td>6.000000</td>\n",
       "      <td>3184.800000</td>\n",
       "      <td>3.000000</td>\n",
       "      <td>8.000000</td>\n",
       "      <td>2004.00000</td>\n",
       "      <td>99.000000</td>\n",
       "    </tr>\n",
       "    <tr>\n",
       "      <th>75%</th>\n",
       "      <td>10333.500000</td>\n",
       "      <td>43.000000</td>\n",
       "      <td>100.000000</td>\n",
       "      <td>9.000000</td>\n",
       "      <td>4508.000000</td>\n",
       "      <td>4.000000</td>\n",
       "      <td>11.000000</td>\n",
       "      <td>2004.00000</td>\n",
       "      <td>124.000000</td>\n",
       "    </tr>\n",
       "    <tr>\n",
       "      <th>max</th>\n",
       "      <td>10425.000000</td>\n",
       "      <td>97.000000</td>\n",
       "      <td>100.000000</td>\n",
       "      <td>18.000000</td>\n",
       "      <td>14082.800000</td>\n",
       "      <td>4.000000</td>\n",
       "      <td>12.000000</td>\n",
       "      <td>2005.00000</td>\n",
       "      <td>214.000000</td>\n",
       "    </tr>\n",
       "  </tbody>\n",
       "</table>\n",
       "</div>"
      ],
      "text/plain": [
       "        ORDERNUMBER  QUANTITYORDERED    PRICEEACH  ORDERLINENUMBER  \\\n",
       "count   2823.000000      2823.000000  2823.000000      2823.000000   \n",
       "mean   10258.725115        35.092809    83.658544         6.466171   \n",
       "std       92.085478         9.741443    20.174277         4.225841   \n",
       "min    10100.000000         6.000000    26.880000         1.000000   \n",
       "25%    10180.000000        27.000000    68.860000         3.000000   \n",
       "50%    10262.000000        35.000000    95.700000         6.000000   \n",
       "75%    10333.500000        43.000000   100.000000         9.000000   \n",
       "max    10425.000000        97.000000   100.000000        18.000000   \n",
       "\n",
       "              SALES       QTR_ID     MONTH_ID     YEAR_ID         MSRP  \n",
       "count   2823.000000  2823.000000  2823.000000  2823.00000  2823.000000  \n",
       "mean    3553.889072     2.717676     7.092455  2003.81509   100.715551  \n",
       "std     1841.865106     1.203878     3.656633     0.69967    40.187912  \n",
       "min      482.130000     1.000000     1.000000  2003.00000    33.000000  \n",
       "25%     2203.430000     2.000000     4.000000  2003.00000    68.000000  \n",
       "50%     3184.800000     3.000000     8.000000  2004.00000    99.000000  \n",
       "75%     4508.000000     4.000000    11.000000  2004.00000   124.000000  \n",
       "max    14082.800000     4.000000    12.000000  2005.00000   214.000000  "
      ]
     },
     "execution_count": 9,
     "metadata": {},
     "output_type": "execute_result"
    }
   ],
   "source": [
    "# Numerical columns\n",
    "global_sales_df.describe()"
   ]
  },
  {
   "cell_type": "code",
   "execution_count": 10,
   "metadata": {
    "colab": {
     "base_uri": "https://localhost:8080/",
     "height": 174
    },
    "executionInfo": {
     "elapsed": 208,
     "status": "ok",
     "timestamp": 1747758151084,
     "user": {
      "displayName": "Ewe Li Wei",
      "userId": "18295529536115247948"
     },
     "user_tz": -480
    },
    "id": "ZnMynLJRzlJI",
    "outputId": "a6357d03-9bfb-4e3f-c3bb-ae37e978e832"
   },
   "outputs": [
    {
     "data": {
      "text/html": [
       "<div>\n",
       "<style scoped>\n",
       "    .dataframe tbody tr th:only-of-type {\n",
       "        vertical-align: middle;\n",
       "    }\n",
       "\n",
       "    .dataframe tbody tr th {\n",
       "        vertical-align: top;\n",
       "    }\n",
       "\n",
       "    .dataframe thead th {\n",
       "        text-align: right;\n",
       "    }\n",
       "</style>\n",
       "<table border=\"1\" class=\"dataframe\">\n",
       "  <thead>\n",
       "    <tr style=\"text-align: right;\">\n",
       "      <th></th>\n",
       "      <th>ORDERDATE</th>\n",
       "      <th>STATUS</th>\n",
       "      <th>PRODUCTLINE</th>\n",
       "      <th>PRODUCTCODE</th>\n",
       "      <th>CUSTOMERNAME</th>\n",
       "      <th>CITY</th>\n",
       "      <th>STATE</th>\n",
       "      <th>POSTALCODE</th>\n",
       "      <th>COUNTRY</th>\n",
       "      <th>DEALSIZE</th>\n",
       "    </tr>\n",
       "  </thead>\n",
       "  <tbody>\n",
       "    <tr>\n",
       "      <th>count</th>\n",
       "      <td>2823</td>\n",
       "      <td>2823</td>\n",
       "      <td>2823</td>\n",
       "      <td>2823</td>\n",
       "      <td>2823</td>\n",
       "      <td>2823</td>\n",
       "      <td>1337</td>\n",
       "      <td>2747</td>\n",
       "      <td>2823</td>\n",
       "      <td>2823</td>\n",
       "    </tr>\n",
       "    <tr>\n",
       "      <th>unique</th>\n",
       "      <td>252</td>\n",
       "      <td>6</td>\n",
       "      <td>7</td>\n",
       "      <td>109</td>\n",
       "      <td>92</td>\n",
       "      <td>73</td>\n",
       "      <td>16</td>\n",
       "      <td>73</td>\n",
       "      <td>19</td>\n",
       "      <td>3</td>\n",
       "    </tr>\n",
       "    <tr>\n",
       "      <th>top</th>\n",
       "      <td>11/14/2003 0:00</td>\n",
       "      <td>Shipped</td>\n",
       "      <td>Classic Cars</td>\n",
       "      <td>S18_3232</td>\n",
       "      <td>Euro Shopping Channel</td>\n",
       "      <td>Madrid</td>\n",
       "      <td>CA</td>\n",
       "      <td>28034</td>\n",
       "      <td>USA</td>\n",
       "      <td>Medium</td>\n",
       "    </tr>\n",
       "    <tr>\n",
       "      <th>freq</th>\n",
       "      <td>38</td>\n",
       "      <td>2617</td>\n",
       "      <td>967</td>\n",
       "      <td>52</td>\n",
       "      <td>259</td>\n",
       "      <td>304</td>\n",
       "      <td>416</td>\n",
       "      <td>259</td>\n",
       "      <td>1004</td>\n",
       "      <td>1384</td>\n",
       "    </tr>\n",
       "  </tbody>\n",
       "</table>\n",
       "</div>"
      ],
      "text/plain": [
       "              ORDERDATE   STATUS   PRODUCTLINE PRODUCTCODE  \\\n",
       "count              2823     2823          2823        2823   \n",
       "unique              252        6             7         109   \n",
       "top     11/14/2003 0:00  Shipped  Classic Cars    S18_3232   \n",
       "freq                 38     2617           967          52   \n",
       "\n",
       "                 CUSTOMERNAME    CITY STATE POSTALCODE COUNTRY DEALSIZE  \n",
       "count                    2823    2823  1337       2747    2823     2823  \n",
       "unique                     92      73    16         73      19        3  \n",
       "top     Euro Shopping Channel  Madrid    CA      28034     USA   Medium  \n",
       "freq                      259     304   416        259    1004     1384  "
      ]
     },
     "execution_count": 10,
     "metadata": {},
     "output_type": "execute_result"
    }
   ],
   "source": [
    "# Categorical columns\n",
    "global_sales_df.describe(include='object')"
   ]
  },
  {
   "cell_type": "code",
   "execution_count": 11,
   "metadata": {
    "colab": {
     "base_uri": "https://localhost:8080/"
    },
    "executionInfo": {
     "elapsed": 40,
     "status": "ok",
     "timestamp": 1747758151951,
     "user": {
      "displayName": "Ewe Li Wei",
      "userId": "18295529536115247948"
     },
     "user_tz": -480
    },
    "id": "9_1unsuSTnur",
    "outputId": "7fac01a8-5cdf-4f53-eb48-6ff94e132a14"
   },
   "outputs": [
    {
     "name": "stdout",
     "output_type": "stream",
     "text": [
      "ORDERNUMBER           0\n",
      "QUANTITYORDERED       0\n",
      "PRICEEACH             0\n",
      "ORDERLINENUMBER       0\n",
      "SALES                 0\n",
      "ORDERDATE             0\n",
      "STATUS                0\n",
      "QTR_ID                0\n",
      "MONTH_ID              0\n",
      "YEAR_ID               0\n",
      "PRODUCTLINE           0\n",
      "MSRP                  0\n",
      "PRODUCTCODE           0\n",
      "CUSTOMERNAME          0\n",
      "CITY                  0\n",
      "STATE              1486\n",
      "POSTALCODE           76\n",
      "COUNTRY               0\n",
      "DEALSIZE              0\n",
      "dtype: int64\n",
      "\n",
      " Missing Values (%):\n",
      "STATE         52.639036\n",
      "POSTALCODE     2.692171\n",
      "dtype: float64\n"
     ]
    }
   ],
   "source": [
    "# Missing Values\n",
    "print(global_sales_df.isnull().sum())\n",
    "\n",
    "# Missing values as a percentage\n",
    "missing_percent = global_sales_df.isnull().mean() * 100\n",
    "missing_percent = missing_percent[missing_percent > 0].sort_values(ascending=False)\n",
    "\n",
    "print(\"\\n Missing Values (%):\")\n",
    "print(missing_percent)"
   ]
  },
  {
   "cell_type": "code",
   "execution_count": 12,
   "metadata": {
    "colab": {
     "base_uri": "https://localhost:8080/",
     "height": 518
    },
    "executionInfo": {
     "elapsed": 1168,
     "status": "ok",
     "timestamp": 1747758153139,
     "user": {
      "displayName": "Ewe Li Wei",
      "userId": "18295529536115247948"
     },
     "user_tz": -480
    },
    "id": "KhreqID0T2iZ",
    "outputId": "229a8baa-d0f3-4bff-a822-48559cf0a2ae"
   },
   "outputs": [
    {
     "data": {
      "image/png": "[encoded data removed]",
      "text/plain": [
       "<Figure size 1000x400 with 1 Axes>"
      ]
     },
     "metadata": {},
     "output_type": "display_data"
    }
   ],
   "source": [
    "# Visualize missing values\n",
    "plt.figure(figsize=(10, 4))\n",
    "global_sales_df.isnull().mean().sort_values(ascending=False).plot.bar()\n",
    "plt.title(\"Missing Values (%)\")\n",
    "plt.show()"
   ]
  },
  {
   "cell_type": "code",
   "execution_count": 13,
   "metadata": {
    "colab": {
     "base_uri": "https://localhost:8080/"
    },
    "executionInfo": {
     "elapsed": 7,
     "status": "ok",
     "timestamp": 1747758153147,
     "user": {
      "displayName": "Ewe Li Wei",
      "userId": "18295529536115247948"
     },
     "user_tz": -480
    },
    "id": "OvhV6SZCT96D",
    "outputId": "11470f95-cb83-4946-b8eb-7f5e8d133fca"
   },
   "outputs": [
    {
     "name": "stdout",
     "output_type": "stream",
     "text": [
      "\n",
      "Total Duplicates: 0\n",
      "\n",
      "Sample Records (if any):\n",
      "Empty DataFrame\n",
      "Columns: [ORDERNUMBER, QUANTITYORDERED, PRICEEACH, ORDERLINENUMBER, SALES, ORDERDATE, STATUS, QTR_ID, MONTH_ID, YEAR_ID, PRODUCTLINE, MSRP, PRODUCTCODE, CUSTOMERNAME, CITY, STATE, POSTALCODE, COUNTRY, DEALSIZE]\n",
      "Index: []\n"
     ]
    }
   ],
   "source": [
    "# Identify Duplcated Records\n",
    "print(f\"\\nTotal Duplicates: {global_sales_df.duplicated().sum()}\")\n",
    "print(\"\\nSample Records (if any):\")\n",
    "print(global_sales_df[global_sales_df.duplicated(keep=False)].head())"
   ]
  },
  {
   "cell_type": "code",
   "execution_count": 14,
   "metadata": {
    "colab": {
     "base_uri": "https://localhost:8080/",
     "height": 472
    },
    "executionInfo": {
     "elapsed": 484,
     "status": "ok",
     "timestamp": 1747758154139,
     "user": {
      "displayName": "Ewe Li Wei",
      "userId": "18295529536115247948"
     },
     "user_tz": -480
    },
    "id": "03XhbMPYVX1s",
    "outputId": "f79023dc-49f9-42c7-80ff-22c9b89588cb"
   },
   "outputs": [
    {
     "data": {
      "image/png": "[encoded data removed]",
      "text/plain": [
       "<Figure size 640x480 with 1 Axes>"
      ]
     },
     "metadata": {},
     "output_type": "display_data"
    }
   ],
   "source": [
    "# Identify outliers with boxplots (numerical columns)\n",
    "global_sales_df.select_dtypes(include=['int64', 'float64']).plot.box(\n",
    "    vert=False,\n",
    "    patch_artist=True,\n",
    "    grid=True\n",
    ")\n",
    "plt.title(\"Box Plots of All Numeric Columns (Outlier Detection)\")\n",
    "plt.xlabel(\"Values\")\n",
    "plt.show()"
   ]
  },
  {
   "cell_type": "markdown",
   "metadata": {
    "id": "yURGVo500ZWg"
   },
   "source": [
    "# Data Transformation"
   ]
  },
  {
   "cell_type": "code",
   "execution_count": 15,
   "metadata": {
    "colab": {
     "base_uri": "https://localhost:8080/"
    },
    "executionInfo": {
     "elapsed": 298,
     "status": "ok",
     "timestamp": 1747758156004,
     "user": {
      "displayName": "Ewe Li Wei",
      "userId": "18295529536115247948"
     },
     "user_tz": -480
    },
    "id": "ffxbyQvO0R_z",
    "outputId": "33225ddb-a4dd-40df-c741-a6fc3d54f116"
   },
   "outputs": [],
   "source": [
    "transformer = DataTransformer(global_sales_df)\n",
    "transformer.format_column_names_to_snake_case()\n",
    "transformer.trim_spaces()\n",
    "transformer.fill_missing_numeric()\n",
    "transformer.fill_missing_categorical()\n",
    "transformer.convert_datetime_col(['orderdate'])\n",
    "transformer.standardize_text_columns(['status'])\n",
    "cleaned_df = transformer.get_transformed_data()"
   ]
  },
  {
   "cell_type": "code",
   "execution_count": 16,
   "metadata": {
    "colab": {
     "base_uri": "https://localhost:8080/",
     "height": 312
    },
    "executionInfo": {
     "elapsed": 121,
     "status": "ok",
     "timestamp": 1747758195792,
     "user": {
      "displayName": "Ewe Li Wei",
      "userId": "18295529536115247948"
     },
     "user_tz": -480
    },
    "id": "DUpaLQW_vz6m",
    "outputId": "9e2db174-1725-4e08-c7a5-3f06ebc7a786"
   },
   "outputs": [
    {
     "data": {
      "text/html": [
       "<style type=\"text/css\">\n",
       "#T_7f60d_row0_col0, #T_7f60d_row0_col1, #T_7f60d_row0_col2, #T_7f60d_row0_col3, #T_7f60d_row0_col4, #T_7f60d_row0_col5, #T_7f60d_row0_col6, #T_7f60d_row0_col7, #T_7f60d_row0_col8, #T_7f60d_row0_col9, #T_7f60d_row0_col10, #T_7f60d_row0_col11, #T_7f60d_row0_col12, #T_7f60d_row0_col13, #T_7f60d_row0_col14, #T_7f60d_row0_col15, #T_7f60d_row0_col16, #T_7f60d_row0_col17, #T_7f60d_row0_col18, #T_7f60d_row1_col0, #T_7f60d_row1_col1, #T_7f60d_row1_col2, #T_7f60d_row1_col3, #T_7f60d_row1_col4, #T_7f60d_row1_col5, #T_7f60d_row1_col6, #T_7f60d_row1_col7, #T_7f60d_row1_col8, #T_7f60d_row1_col9, #T_7f60d_row1_col10, #T_7f60d_row1_col11, #T_7f60d_row1_col12, #T_7f60d_row1_col13, #T_7f60d_row1_col14, #T_7f60d_row1_col15, #T_7f60d_row1_col16, #T_7f60d_row1_col17, #T_7f60d_row1_col18, #T_7f60d_row2_col0, #T_7f60d_row2_col1, #T_7f60d_row2_col2, #T_7f60d_row2_col3, #T_7f60d_row2_col4, #T_7f60d_row2_col5, #T_7f60d_row2_col6, #T_7f60d_row2_col7, #T_7f60d_row2_col8, #T_7f60d_row2_col9, #T_7f60d_row2_col10, #T_7f60d_row2_col11, #T_7f60d_row2_col12, #T_7f60d_row2_col13, #T_7f60d_row2_col14, #T_7f60d_row2_col15, #T_7f60d_row2_col16, #T_7f60d_row2_col17, #T_7f60d_row2_col18, #T_7f60d_row3_col0, #T_7f60d_row3_col1, #T_7f60d_row3_col2, #T_7f60d_row3_col3, #T_7f60d_row3_col4, #T_7f60d_row3_col5, #T_7f60d_row3_col6, #T_7f60d_row3_col7, #T_7f60d_row3_col8, #T_7f60d_row3_col9, #T_7f60d_row3_col10, #T_7f60d_row3_col11, #T_7f60d_row3_col12, #T_7f60d_row3_col13, #T_7f60d_row3_col14, #T_7f60d_row3_col15, #T_7f60d_row3_col16, #T_7f60d_row3_col17, #T_7f60d_row3_col18, #T_7f60d_row4_col0, #T_7f60d_row4_col1, #T_7f60d_row4_col2, #T_7f60d_row4_col3, #T_7f60d_row4_col4, #T_7f60d_row4_col5, #T_7f60d_row4_col6, #T_7f60d_row4_col7, #T_7f60d_row4_col8, #T_7f60d_row4_col9, #T_7f60d_row4_col10, #T_7f60d_row4_col11, #T_7f60d_row4_col12, #T_7f60d_row4_col13, #T_7f60d_row4_col14, #T_7f60d_row4_col15, #T_7f60d_row4_col16, #T_7f60d_row4_col17, #T_7f60d_row4_col18 {\n",
       "  text-align: left;\n",
       "}\n",
       "</style>\n",
       "<table id=\"T_7f60d\">\n",
       "  <thead>\n",
       "    <tr>\n",
       "      <th class=\"blank level0\" >&nbsp;</th>\n",
       "      <th id=\"T_7f60d_level0_col0\" class=\"col_heading level0 col0\" >ordernumber</th>\n",
       "      <th id=\"T_7f60d_level0_col1\" class=\"col_heading level0 col1\" >quantityordered</th>\n",
       "      <th id=\"T_7f60d_level0_col2\" class=\"col_heading level0 col2\" >priceeach</th>\n",
       "      <th id=\"T_7f60d_level0_col3\" class=\"col_heading level0 col3\" >orderlinenumber</th>\n",
       "      <th id=\"T_7f60d_level0_col4\" class=\"col_heading level0 col4\" >sales</th>\n",
       "      <th id=\"T_7f60d_level0_col5\" class=\"col_heading level0 col5\" >orderdate</th>\n",
       "      <th id=\"T_7f60d_level0_col6\" class=\"col_heading level0 col6\" >status</th>\n",
       "      <th id=\"T_7f60d_level0_col7\" class=\"col_heading level0 col7\" >qtr_id</th>\n",
       "      <th id=\"T_7f60d_level0_col8\" class=\"col_heading level0 col8\" >month_id</th>\n",
       "      <th id=\"T_7f60d_level0_col9\" class=\"col_heading level0 col9\" >year_id</th>\n",
       "      <th id=\"T_7f60d_level0_col10\" class=\"col_heading level0 col10\" >productline</th>\n",
       "      <th id=\"T_7f60d_level0_col11\" class=\"col_heading level0 col11\" >msrp</th>\n",
       "      <th id=\"T_7f60d_level0_col12\" class=\"col_heading level0 col12\" >productcode</th>\n",
       "      <th id=\"T_7f60d_level0_col13\" class=\"col_heading level0 col13\" >customername</th>\n",
       "      <th id=\"T_7f60d_level0_col14\" class=\"col_heading level0 col14\" >city</th>\n",
       "      <th id=\"T_7f60d_level0_col15\" class=\"col_heading level0 col15\" >state</th>\n",
       "      <th id=\"T_7f60d_level0_col16\" class=\"col_heading level0 col16\" >postalcode</th>\n",
       "      <th id=\"T_7f60d_level0_col17\" class=\"col_heading level0 col17\" >country</th>\n",
       "      <th id=\"T_7f60d_level0_col18\" class=\"col_heading level0 col18\" >dealsize</th>\n",
       "    </tr>\n",
       "  </thead>\n",
       "  <tbody>\n",
       "    <tr>\n",
       "      <th id=\"T_7f60d_level0_row0\" class=\"row_heading level0 row0\" >0</th>\n",
       "      <td id=\"T_7f60d_row0_col0\" class=\"data row0 col0\" >10107</td>\n",
       "      <td id=\"T_7f60d_row0_col1\" class=\"data row0 col1\" >30</td>\n",
       "      <td id=\"T_7f60d_row0_col2\" class=\"data row0 col2\" >95.700000</td>\n",
       "      <td id=\"T_7f60d_row0_col3\" class=\"data row0 col3\" >2</td>\n",
       "      <td id=\"T_7f60d_row0_col4\" class=\"data row0 col4\" >2871.000000</td>\n",
       "      <td id=\"T_7f60d_row0_col5\" class=\"data row0 col5\" >2003-02-24 00:00:00</td>\n",
       "      <td id=\"T_7f60d_row0_col6\" class=\"data row0 col6\" >SHIPPED</td>\n",
       "      <td id=\"T_7f60d_row0_col7\" class=\"data row0 col7\" >1</td>\n",
       "      <td id=\"T_7f60d_row0_col8\" class=\"data row0 col8\" >2</td>\n",
       "      <td id=\"T_7f60d_row0_col9\" class=\"data row0 col9\" >2003</td>\n",
       "      <td id=\"T_7f60d_row0_col10\" class=\"data row0 col10\" >Motorcycles</td>\n",
       "      <td id=\"T_7f60d_row0_col11\" class=\"data row0 col11\" >95</td>\n",
       "      <td id=\"T_7f60d_row0_col12\" class=\"data row0 col12\" >S10_1678</td>\n",
       "      <td id=\"T_7f60d_row0_col13\" class=\"data row0 col13\" >Land of Toys Inc.</td>\n",
       "      <td id=\"T_7f60d_row0_col14\" class=\"data row0 col14\" >NYC</td>\n",
       "      <td id=\"T_7f60d_row0_col15\" class=\"data row0 col15\" >NY</td>\n",
       "      <td id=\"T_7f60d_row0_col16\" class=\"data row0 col16\" >10022</td>\n",
       "      <td id=\"T_7f60d_row0_col17\" class=\"data row0 col17\" >USA</td>\n",
       "      <td id=\"T_7f60d_row0_col18\" class=\"data row0 col18\" >Small</td>\n",
       "    </tr>\n",
       "    <tr>\n",
       "      <th id=\"T_7f60d_level0_row1\" class=\"row_heading level0 row1\" >1</th>\n",
       "      <td id=\"T_7f60d_row1_col0\" class=\"data row1 col0\" >10121</td>\n",
       "      <td id=\"T_7f60d_row1_col1\" class=\"data row1 col1\" >34</td>\n",
       "      <td id=\"T_7f60d_row1_col2\" class=\"data row1 col2\" >81.350000</td>\n",
       "      <td id=\"T_7f60d_row1_col3\" class=\"data row1 col3\" >5</td>\n",
       "      <td id=\"T_7f60d_row1_col4\" class=\"data row1 col4\" >2765.900000</td>\n",
       "      <td id=\"T_7f60d_row1_col5\" class=\"data row1 col5\" >2003-05-07 00:00:00</td>\n",
       "      <td id=\"T_7f60d_row1_col6\" class=\"data row1 col6\" >SHIPPED</td>\n",
       "      <td id=\"T_7f60d_row1_col7\" class=\"data row1 col7\" >2</td>\n",
       "      <td id=\"T_7f60d_row1_col8\" class=\"data row1 col8\" >5</td>\n",
       "      <td id=\"T_7f60d_row1_col9\" class=\"data row1 col9\" >2003</td>\n",
       "      <td id=\"T_7f60d_row1_col10\" class=\"data row1 col10\" >Motorcycles</td>\n",
       "      <td id=\"T_7f60d_row1_col11\" class=\"data row1 col11\" >95</td>\n",
       "      <td id=\"T_7f60d_row1_col12\" class=\"data row1 col12\" >S10_1678</td>\n",
       "      <td id=\"T_7f60d_row1_col13\" class=\"data row1 col13\" >Reims Collectables</td>\n",
       "      <td id=\"T_7f60d_row1_col14\" class=\"data row1 col14\" >Reims</td>\n",
       "      <td id=\"T_7f60d_row1_col15\" class=\"data row1 col15\" >NA</td>\n",
       "      <td id=\"T_7f60d_row1_col16\" class=\"data row1 col16\" >51100</td>\n",
       "      <td id=\"T_7f60d_row1_col17\" class=\"data row1 col17\" >France</td>\n",
       "      <td id=\"T_7f60d_row1_col18\" class=\"data row1 col18\" >Small</td>\n",
       "    </tr>\n",
       "    <tr>\n",
       "      <th id=\"T_7f60d_level0_row2\" class=\"row_heading level0 row2\" >2</th>\n",
       "      <td id=\"T_7f60d_row2_col0\" class=\"data row2 col0\" >10134</td>\n",
       "      <td id=\"T_7f60d_row2_col1\" class=\"data row2 col1\" >41</td>\n",
       "      <td id=\"T_7f60d_row2_col2\" class=\"data row2 col2\" >94.740000</td>\n",
       "      <td id=\"T_7f60d_row2_col3\" class=\"data row2 col3\" >2</td>\n",
       "      <td id=\"T_7f60d_row2_col4\" class=\"data row2 col4\" >3884.340000</td>\n",
       "      <td id=\"T_7f60d_row2_col5\" class=\"data row2 col5\" >2003-07-01 00:00:00</td>\n",
       "      <td id=\"T_7f60d_row2_col6\" class=\"data row2 col6\" >SHIPPED</td>\n",
       "      <td id=\"T_7f60d_row2_col7\" class=\"data row2 col7\" >3</td>\n",
       "      <td id=\"T_7f60d_row2_col8\" class=\"data row2 col8\" >7</td>\n",
       "      <td id=\"T_7f60d_row2_col9\" class=\"data row2 col9\" >2003</td>\n",
       "      <td id=\"T_7f60d_row2_col10\" class=\"data row2 col10\" >Motorcycles</td>\n",
       "      <td id=\"T_7f60d_row2_col11\" class=\"data row2 col11\" >95</td>\n",
       "      <td id=\"T_7f60d_row2_col12\" class=\"data row2 col12\" >S10_1678</td>\n",
       "      <td id=\"T_7f60d_row2_col13\" class=\"data row2 col13\" >Lyon Souveniers</td>\n",
       "      <td id=\"T_7f60d_row2_col14\" class=\"data row2 col14\" >Paris</td>\n",
       "      <td id=\"T_7f60d_row2_col15\" class=\"data row2 col15\" >NA</td>\n",
       "      <td id=\"T_7f60d_row2_col16\" class=\"data row2 col16\" >75508</td>\n",
       "      <td id=\"T_7f60d_row2_col17\" class=\"data row2 col17\" >France</td>\n",
       "      <td id=\"T_7f60d_row2_col18\" class=\"data row2 col18\" >Medium</td>\n",
       "    </tr>\n",
       "    <tr>\n",
       "      <th id=\"T_7f60d_level0_row3\" class=\"row_heading level0 row3\" >3</th>\n",
       "      <td id=\"T_7f60d_row3_col0\" class=\"data row3 col0\" >10145</td>\n",
       "      <td id=\"T_7f60d_row3_col1\" class=\"data row3 col1\" >45</td>\n",
       "      <td id=\"T_7f60d_row3_col2\" class=\"data row3 col2\" >83.260000</td>\n",
       "      <td id=\"T_7f60d_row3_col3\" class=\"data row3 col3\" >6</td>\n",
       "      <td id=\"T_7f60d_row3_col4\" class=\"data row3 col4\" >3746.700000</td>\n",
       "      <td id=\"T_7f60d_row3_col5\" class=\"data row3 col5\" >2003-08-25 00:00:00</td>\n",
       "      <td id=\"T_7f60d_row3_col6\" class=\"data row3 col6\" >SHIPPED</td>\n",
       "      <td id=\"T_7f60d_row3_col7\" class=\"data row3 col7\" >3</td>\n",
       "      <td id=\"T_7f60d_row3_col8\" class=\"data row3 col8\" >8</td>\n",
       "      <td id=\"T_7f60d_row3_col9\" class=\"data row3 col9\" >2003</td>\n",
       "      <td id=\"T_7f60d_row3_col10\" class=\"data row3 col10\" >Motorcycles</td>\n",
       "      <td id=\"T_7f60d_row3_col11\" class=\"data row3 col11\" >95</td>\n",
       "      <td id=\"T_7f60d_row3_col12\" class=\"data row3 col12\" >S10_1678</td>\n",
       "      <td id=\"T_7f60d_row3_col13\" class=\"data row3 col13\" >Toys4GrownUps.com</td>\n",
       "      <td id=\"T_7f60d_row3_col14\" class=\"data row3 col14\" >Pasadena</td>\n",
       "      <td id=\"T_7f60d_row3_col15\" class=\"data row3 col15\" >CA</td>\n",
       "      <td id=\"T_7f60d_row3_col16\" class=\"data row3 col16\" >90003</td>\n",
       "      <td id=\"T_7f60d_row3_col17\" class=\"data row3 col17\" >USA</td>\n",
       "      <td id=\"T_7f60d_row3_col18\" class=\"data row3 col18\" >Medium</td>\n",
       "    </tr>\n",
       "    <tr>\n",
       "      <th id=\"T_7f60d_level0_row4\" class=\"row_heading level0 row4\" >4</th>\n",
       "      <td id=\"T_7f60d_row4_col0\" class=\"data row4 col0\" >10159</td>\n",
       "      <td id=\"T_7f60d_row4_col1\" class=\"data row4 col1\" >49</td>\n",
       "      <td id=\"T_7f60d_row4_col2\" class=\"data row4 col2\" >100.000000</td>\n",
       "      <td id=\"T_7f60d_row4_col3\" class=\"data row4 col3\" >14</td>\n",
       "      <td id=\"T_7f60d_row4_col4\" class=\"data row4 col4\" >5205.270000</td>\n",
       "      <td id=\"T_7f60d_row4_col5\" class=\"data row4 col5\" >2003-10-10 00:00:00</td>\n",
       "      <td id=\"T_7f60d_row4_col6\" class=\"data row4 col6\" >SHIPPED</td>\n",
       "      <td id=\"T_7f60d_row4_col7\" class=\"data row4 col7\" >4</td>\n",
       "      <td id=\"T_7f60d_row4_col8\" class=\"data row4 col8\" >10</td>\n",
       "      <td id=\"T_7f60d_row4_col9\" class=\"data row4 col9\" >2003</td>\n",
       "      <td id=\"T_7f60d_row4_col10\" class=\"data row4 col10\" >Motorcycles</td>\n",
       "      <td id=\"T_7f60d_row4_col11\" class=\"data row4 col11\" >95</td>\n",
       "      <td id=\"T_7f60d_row4_col12\" class=\"data row4 col12\" >S10_1678</td>\n",
       "      <td id=\"T_7f60d_row4_col13\" class=\"data row4 col13\" >Corporate Gift Ideas Co.</td>\n",
       "      <td id=\"T_7f60d_row4_col14\" class=\"data row4 col14\" >San Francisco</td>\n",
       "      <td id=\"T_7f60d_row4_col15\" class=\"data row4 col15\" >CA</td>\n",
       "      <td id=\"T_7f60d_row4_col16\" class=\"data row4 col16\" >NA</td>\n",
       "      <td id=\"T_7f60d_row4_col17\" class=\"data row4 col17\" >USA</td>\n",
       "      <td id=\"T_7f60d_row4_col18\" class=\"data row4 col18\" >Medium</td>\n",
       "    </tr>\n",
       "  </tbody>\n",
       "</table>\n"
      ],
      "text/plain": [
       "<pandas.io.formats.style.Styler at 0x24fd66bd710>"
      ]
     },
     "execution_count": 16,
     "metadata": {},
     "output_type": "execute_result"
    }
   ],
   "source": [
    "# View sample data\n",
    "cleaned_df.head(5).style.set_properties(**{'text-align': 'left'})"
   ]
  }
 ],
 "metadata": {
  "colab": {
   "authorship_tag": "ABX9TyMDAxs3176gWNkUuAnK3BZC",
   "mount_file_id": "1EfKy8ecV3n16Dov-uJGEThS5I4T7J-6h",
   "provenance": [
    {
     "file_id": "1EfKy8ecV3n16Dov-uJGEThS5I4T7J-6h",
     "timestamp": 1747664979193
    }
   ]
  },
  "kernelspec": {
   "display_name": "venv",
   "language": "python",
   "name": "python3"
  },
  "language_info": {
   "codemirror_mode": {
    "name": "ipython",
    "version": 3
   },
   "file_extension": ".py",
   "mimetype": "text/x-python",
   "name": "python",
   "nbconvert_exporter": "python",
   "pygments_lexer": "ipython3",
   "version": "3.11.4"
  }
 },
 "nbformat": 4,
 "nbformat_minor": 0
}
